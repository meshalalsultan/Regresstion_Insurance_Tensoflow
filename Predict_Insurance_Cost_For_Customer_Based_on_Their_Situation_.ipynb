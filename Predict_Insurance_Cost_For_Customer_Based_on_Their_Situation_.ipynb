{
  "nbformat": 4,
  "nbformat_minor": 0,
  "metadata": {
    "colab": {
      "name": "Predict Insurance Cost For Customer Based on Their Situation .ipynb",
      "provenance": [],
      "authorship_tag": "ABX9TyNeChWF6tdixKePOvJ3+FhG",
      "include_colab_link": true
    },
    "kernelspec": {
      "name": "python3",
      "display_name": "Python 3"
    },
    "language_info": {
      "name": "python"
    }
  },
  "cells": [
    {
      "cell_type": "markdown",
      "metadata": {
        "id": "view-in-github",
        "colab_type": "text"
      },
      "source": [
        "<a href=\"https://colab.research.google.com/github/meshalalsultan/Tensoflow/blob/main/Predict_Insurance_Cost_For_Customer_Based_on_Their_Situation_.ipynb\" target=\"_parent\"><img src=\"https://colab.research.google.com/assets/colab-badge.svg\" alt=\"Open In Colab\"/></a>"
      ]
    },
    {
      "cell_type": "code",
      "metadata": {
        "id": "yGLSaEc2mLH4"
      },
      "source": [
        "import tensorflow as tf\n",
        "import pandas as pd\n",
        "import matplotlib.pyplot as plt"
      ],
      "execution_count": 1,
      "outputs": []
    },
    {
      "cell_type": "code",
      "metadata": {
        "colab": {
          "base_uri": "https://localhost:8080/",
          "height": 203
        },
        "id": "LIrApWi3m0BM",
        "outputId": "84cb683a-ed9b-4aa5-de8c-def8c3821b28"
      },
      "source": [
        "# Read the insurance dataset\n",
        "insurance = pd.read_csv('https://raw.githubusercontent.com/stedy/Machine-Learning-with-R-datasets/master/insurance.csv')\n",
        "insurance.head()"
      ],
      "execution_count": 3,
      "outputs": [
        {
          "output_type": "execute_result",
          "data": {
            "text/html": [
              "<div>\n",
              "<style scoped>\n",
              "    .dataframe tbody tr th:only-of-type {\n",
              "        vertical-align: middle;\n",
              "    }\n",
              "\n",
              "    .dataframe tbody tr th {\n",
              "        vertical-align: top;\n",
              "    }\n",
              "\n",
              "    .dataframe thead th {\n",
              "        text-align: right;\n",
              "    }\n",
              "</style>\n",
              "<table border=\"1\" class=\"dataframe\">\n",
              "  <thead>\n",
              "    <tr style=\"text-align: right;\">\n",
              "      <th></th>\n",
              "      <th>age</th>\n",
              "      <th>sex</th>\n",
              "      <th>bmi</th>\n",
              "      <th>children</th>\n",
              "      <th>smoker</th>\n",
              "      <th>region</th>\n",
              "      <th>charges</th>\n",
              "    </tr>\n",
              "  </thead>\n",
              "  <tbody>\n",
              "    <tr>\n",
              "      <th>0</th>\n",
              "      <td>19</td>\n",
              "      <td>female</td>\n",
              "      <td>27.900</td>\n",
              "      <td>0</td>\n",
              "      <td>yes</td>\n",
              "      <td>southwest</td>\n",
              "      <td>16884.92400</td>\n",
              "    </tr>\n",
              "    <tr>\n",
              "      <th>1</th>\n",
              "      <td>18</td>\n",
              "      <td>male</td>\n",
              "      <td>33.770</td>\n",
              "      <td>1</td>\n",
              "      <td>no</td>\n",
              "      <td>southeast</td>\n",
              "      <td>1725.55230</td>\n",
              "    </tr>\n",
              "    <tr>\n",
              "      <th>2</th>\n",
              "      <td>28</td>\n",
              "      <td>male</td>\n",
              "      <td>33.000</td>\n",
              "      <td>3</td>\n",
              "      <td>no</td>\n",
              "      <td>southeast</td>\n",
              "      <td>4449.46200</td>\n",
              "    </tr>\n",
              "    <tr>\n",
              "      <th>3</th>\n",
              "      <td>33</td>\n",
              "      <td>male</td>\n",
              "      <td>22.705</td>\n",
              "      <td>0</td>\n",
              "      <td>no</td>\n",
              "      <td>northwest</td>\n",
              "      <td>21984.47061</td>\n",
              "    </tr>\n",
              "    <tr>\n",
              "      <th>4</th>\n",
              "      <td>32</td>\n",
              "      <td>male</td>\n",
              "      <td>28.880</td>\n",
              "      <td>0</td>\n",
              "      <td>no</td>\n",
              "      <td>northwest</td>\n",
              "      <td>3866.85520</td>\n",
              "    </tr>\n",
              "  </tbody>\n",
              "</table>\n",
              "</div>"
            ],
            "text/plain": [
              "   age     sex     bmi  children smoker     region      charges\n",
              "0   19  female  27.900         0    yes  southwest  16884.92400\n",
              "1   18    male  33.770         1     no  southeast   1725.55230\n",
              "2   28    male  33.000         3     no  southeast   4449.46200\n",
              "3   33    male  22.705         0     no  northwest  21984.47061\n",
              "4   32    male  28.880         0     no  northwest   3866.85520"
            ]
          },
          "metadata": {},
          "execution_count": 3
        }
      ]
    },
    {
      "cell_type": "markdown",
      "metadata": {
        "id": "Ng2IBhmqnL_w"
      },
      "source": [
        "So Based on the Feature (age , sex , bmi , children , smoker , region), i will try to predict the `charges` cost for that case"
      ]
    },
    {
      "cell_type": "markdown",
      "metadata": {
        "id": "IlUfvnETnyPq"
      },
      "source": [
        "# The Idea and working plan"
      ]
    },
    {
      "cell_type": "markdown",
      "metadata": {
        "id": "RcN_6kqMn9ov"
      },
      "source": [
        "I will build Machine Learning Model that can take the needed information from the user and predict the fear cost of insurance .\n",
        "\n",
        "For that i will use :\n",
        " \n",
        "1. Preprossing the data to fit the model \n",
        "2. Build Regresstion model .\n",
        "3. Evaluate the model .\n",
        "4. Use the 3 model tacnice to tune the models .\n",
        "5. Save the best model in h5 format ."
      ]
    },
    {
      "cell_type": "markdown",
      "metadata": {
        "id": "MXXW9-hXpIYn"
      },
      "source": [
        "## 1. Preprossing The Data\n",
        "\n",
        "I will to turn the non-numerical columns into number (because **Neural Network** can't handel non-numerical inputs)\n",
        "\n",
        "I will use function call `get_dummies()` in pandas , it will convert catagorical variable (`sex`,`smoker`,`rigon`) into numerical using one-HotEncoding"
      ]
    },
    {
      "cell_type": "code",
      "metadata": {
        "colab": {
          "base_uri": "https://localhost:8080/",
          "height": 223
        },
        "id": "Iqt2JtFhnrYU",
        "outputId": "4eb65849-edca-40de-a018-a97fd88a0e9d"
      },
      "source": [
        "# Turn all catagorical into number\n",
        "insurance_one_hot = pd.get_dummies(insurance) \n",
        "insurance_one_hot.head()"
      ],
      "execution_count": 5,
      "outputs": [
        {
          "output_type": "execute_result",
          "data": {
            "text/html": [
              "<div>\n",
              "<style scoped>\n",
              "    .dataframe tbody tr th:only-of-type {\n",
              "        vertical-align: middle;\n",
              "    }\n",
              "\n",
              "    .dataframe tbody tr th {\n",
              "        vertical-align: top;\n",
              "    }\n",
              "\n",
              "    .dataframe thead th {\n",
              "        text-align: right;\n",
              "    }\n",
              "</style>\n",
              "<table border=\"1\" class=\"dataframe\">\n",
              "  <thead>\n",
              "    <tr style=\"text-align: right;\">\n",
              "      <th></th>\n",
              "      <th>age</th>\n",
              "      <th>bmi</th>\n",
              "      <th>children</th>\n",
              "      <th>charges</th>\n",
              "      <th>sex_female</th>\n",
              "      <th>sex_male</th>\n",
              "      <th>smoker_no</th>\n",
              "      <th>smoker_yes</th>\n",
              "      <th>region_northeast</th>\n",
              "      <th>region_northwest</th>\n",
              "      <th>region_southeast</th>\n",
              "      <th>region_southwest</th>\n",
              "    </tr>\n",
              "  </thead>\n",
              "  <tbody>\n",
              "    <tr>\n",
              "      <th>0</th>\n",
              "      <td>19</td>\n",
              "      <td>27.900</td>\n",
              "      <td>0</td>\n",
              "      <td>16884.92400</td>\n",
              "      <td>1</td>\n",
              "      <td>0</td>\n",
              "      <td>0</td>\n",
              "      <td>1</td>\n",
              "      <td>0</td>\n",
              "      <td>0</td>\n",
              "      <td>0</td>\n",
              "      <td>1</td>\n",
              "    </tr>\n",
              "    <tr>\n",
              "      <th>1</th>\n",
              "      <td>18</td>\n",
              "      <td>33.770</td>\n",
              "      <td>1</td>\n",
              "      <td>1725.55230</td>\n",
              "      <td>0</td>\n",
              "      <td>1</td>\n",
              "      <td>1</td>\n",
              "      <td>0</td>\n",
              "      <td>0</td>\n",
              "      <td>0</td>\n",
              "      <td>1</td>\n",
              "      <td>0</td>\n",
              "    </tr>\n",
              "    <tr>\n",
              "      <th>2</th>\n",
              "      <td>28</td>\n",
              "      <td>33.000</td>\n",
              "      <td>3</td>\n",
              "      <td>4449.46200</td>\n",
              "      <td>0</td>\n",
              "      <td>1</td>\n",
              "      <td>1</td>\n",
              "      <td>0</td>\n",
              "      <td>0</td>\n",
              "      <td>0</td>\n",
              "      <td>1</td>\n",
              "      <td>0</td>\n",
              "    </tr>\n",
              "    <tr>\n",
              "      <th>3</th>\n",
              "      <td>33</td>\n",
              "      <td>22.705</td>\n",
              "      <td>0</td>\n",
              "      <td>21984.47061</td>\n",
              "      <td>0</td>\n",
              "      <td>1</td>\n",
              "      <td>1</td>\n",
              "      <td>0</td>\n",
              "      <td>0</td>\n",
              "      <td>1</td>\n",
              "      <td>0</td>\n",
              "      <td>0</td>\n",
              "    </tr>\n",
              "    <tr>\n",
              "      <th>4</th>\n",
              "      <td>32</td>\n",
              "      <td>28.880</td>\n",
              "      <td>0</td>\n",
              "      <td>3866.85520</td>\n",
              "      <td>0</td>\n",
              "      <td>1</td>\n",
              "      <td>1</td>\n",
              "      <td>0</td>\n",
              "      <td>0</td>\n",
              "      <td>1</td>\n",
              "      <td>0</td>\n",
              "      <td>0</td>\n",
              "    </tr>\n",
              "  </tbody>\n",
              "</table>\n",
              "</div>"
            ],
            "text/plain": [
              "   age     bmi  children  ...  region_northwest  region_southeast  region_southwest\n",
              "0   19  27.900         0  ...                 0                 0                 1\n",
              "1   18  33.770         1  ...                 0                 1                 0\n",
              "2   28  33.000         3  ...                 0                 1                 0\n",
              "3   33  22.705         0  ...                 1                 0                 0\n",
              "4   32  28.880         0  ...                 1                 0                 0\n",
              "\n",
              "[5 rows x 12 columns]"
            ]
          },
          "metadata": {},
          "execution_count": 5
        }
      ]
    },
    {
      "cell_type": "markdown",
      "metadata": {
        "id": "jOIvdnMiqwCq"
      },
      "source": [
        "Now Split the data into feature(x) and label(y)"
      ]
    },
    {
      "cell_type": "code",
      "metadata": {
        "id": "RwA6XHVFrI0g"
      },
      "source": [
        "# Create x & y values \n",
        "x = insurance_one_hot.drop('charges',axis=1)\n",
        "y= insurance_one_hot['children']"
      ],
      "execution_count": 6,
      "outputs": []
    },
    {
      "cell_type": "code",
      "metadata": {
        "colab": {
          "base_uri": "https://localhost:8080/",
          "height": 223
        },
        "id": "lmLiTDlNrd0R",
        "outputId": "3203286a-7af4-4f53-9e25-b19a09d1f74f"
      },
      "source": [
        "#view the feature\n",
        "x.head()"
      ],
      "execution_count": 7,
      "outputs": [
        {
          "output_type": "execute_result",
          "data": {
            "text/html": [
              "<div>\n",
              "<style scoped>\n",
              "    .dataframe tbody tr th:only-of-type {\n",
              "        vertical-align: middle;\n",
              "    }\n",
              "\n",
              "    .dataframe tbody tr th {\n",
              "        vertical-align: top;\n",
              "    }\n",
              "\n",
              "    .dataframe thead th {\n",
              "        text-align: right;\n",
              "    }\n",
              "</style>\n",
              "<table border=\"1\" class=\"dataframe\">\n",
              "  <thead>\n",
              "    <tr style=\"text-align: right;\">\n",
              "      <th></th>\n",
              "      <th>age</th>\n",
              "      <th>bmi</th>\n",
              "      <th>children</th>\n",
              "      <th>sex_female</th>\n",
              "      <th>sex_male</th>\n",
              "      <th>smoker_no</th>\n",
              "      <th>smoker_yes</th>\n",
              "      <th>region_northeast</th>\n",
              "      <th>region_northwest</th>\n",
              "      <th>region_southeast</th>\n",
              "      <th>region_southwest</th>\n",
              "    </tr>\n",
              "  </thead>\n",
              "  <tbody>\n",
              "    <tr>\n",
              "      <th>0</th>\n",
              "      <td>19</td>\n",
              "      <td>27.900</td>\n",
              "      <td>0</td>\n",
              "      <td>1</td>\n",
              "      <td>0</td>\n",
              "      <td>0</td>\n",
              "      <td>1</td>\n",
              "      <td>0</td>\n",
              "      <td>0</td>\n",
              "      <td>0</td>\n",
              "      <td>1</td>\n",
              "    </tr>\n",
              "    <tr>\n",
              "      <th>1</th>\n",
              "      <td>18</td>\n",
              "      <td>33.770</td>\n",
              "      <td>1</td>\n",
              "      <td>0</td>\n",
              "      <td>1</td>\n",
              "      <td>1</td>\n",
              "      <td>0</td>\n",
              "      <td>0</td>\n",
              "      <td>0</td>\n",
              "      <td>1</td>\n",
              "      <td>0</td>\n",
              "    </tr>\n",
              "    <tr>\n",
              "      <th>2</th>\n",
              "      <td>28</td>\n",
              "      <td>33.000</td>\n",
              "      <td>3</td>\n",
              "      <td>0</td>\n",
              "      <td>1</td>\n",
              "      <td>1</td>\n",
              "      <td>0</td>\n",
              "      <td>0</td>\n",
              "      <td>0</td>\n",
              "      <td>1</td>\n",
              "      <td>0</td>\n",
              "    </tr>\n",
              "    <tr>\n",
              "      <th>3</th>\n",
              "      <td>33</td>\n",
              "      <td>22.705</td>\n",
              "      <td>0</td>\n",
              "      <td>0</td>\n",
              "      <td>1</td>\n",
              "      <td>1</td>\n",
              "      <td>0</td>\n",
              "      <td>0</td>\n",
              "      <td>1</td>\n",
              "      <td>0</td>\n",
              "      <td>0</td>\n",
              "    </tr>\n",
              "    <tr>\n",
              "      <th>4</th>\n",
              "      <td>32</td>\n",
              "      <td>28.880</td>\n",
              "      <td>0</td>\n",
              "      <td>0</td>\n",
              "      <td>1</td>\n",
              "      <td>1</td>\n",
              "      <td>0</td>\n",
              "      <td>0</td>\n",
              "      <td>1</td>\n",
              "      <td>0</td>\n",
              "      <td>0</td>\n",
              "    </tr>\n",
              "  </tbody>\n",
              "</table>\n",
              "</div>"
            ],
            "text/plain": [
              "   age     bmi  children  ...  region_northwest  region_southeast  region_southwest\n",
              "0   19  27.900         0  ...                 0                 0                 1\n",
              "1   18  33.770         1  ...                 0                 1                 0\n",
              "2   28  33.000         3  ...                 0                 1                 0\n",
              "3   33  22.705         0  ...                 1                 0                 0\n",
              "4   32  28.880         0  ...                 1                 0                 0\n",
              "\n",
              "[5 rows x 11 columns]"
            ]
          },
          "metadata": {},
          "execution_count": 7
        }
      ]
    },
    {
      "cell_type": "code",
      "metadata": {
        "id": "mLTHc9x5rjup"
      },
      "source": [
        "# Create the training and test set\n",
        "from sklearn.model_selection import train_test_split\n",
        "\n",
        "x_train,x_test,y_train,y_test= train_test_split(x,y,test_size=0.2,random_state=42)"
      ],
      "execution_count": 8,
      "outputs": []
    },
    {
      "cell_type": "markdown",
      "metadata": {
        "id": "RxLTqhESsMAp"
      },
      "source": [
        "## Create, Fit and train the Model"
      ]
    },
    {
      "cell_type": "code",
      "metadata": {
        "colab": {
          "base_uri": "https://localhost:8080/"
        },
        "id": "i28ohXzusHLz",
        "outputId": "1c92e7e2-9fda-4350-8896-6a03524297c5"
      },
      "source": [
        "# Set the Random Seed\n",
        "tf.random.set_seed(42)\n",
        "\n",
        "# Create the model\n",
        "insurance_model = tf.keras.Sequential([\n",
        "    tf.keras.layers.Dense(1),\n",
        "    tf.keras.layers.Dense(1)\n",
        "])\n",
        "\n",
        "# Compile the model\n",
        "insurance_model.compile(loss= tf.keras.losses.mae,\n",
        "                        optimizer = tf.keras.optimizers.SGD(),\n",
        "                        metrics=['mae'])\n",
        "# Fit the model\n",
        "insurance_model.fit(x_train,y_train,epochs=100)"
      ],
      "execution_count": 11,
      "outputs": [
        {
          "output_type": "stream",
          "name": "stdout",
          "text": [
            "Epoch 1/100\n",
            "34/34 [==============================] - 1s 1ms/step - loss: 1.4586 - mae: 1.4586\n",
            "Epoch 2/100\n",
            "34/34 [==============================] - 0s 973us/step - loss: 1.0163 - mae: 1.0163\n",
            "Epoch 3/100\n",
            "34/34 [==============================] - 0s 975us/step - loss: 1.0106 - mae: 1.0106\n",
            "Epoch 4/100\n",
            "34/34 [==============================] - 0s 1ms/step - loss: 0.9947 - mae: 0.9947\n",
            "Epoch 5/100\n",
            "34/34 [==============================] - 0s 1ms/step - loss: 1.0086 - mae: 1.0086\n",
            "Epoch 6/100\n",
            "34/34 [==============================] - 0s 1ms/step - loss: 0.9959 - mae: 0.9959\n",
            "Epoch 7/100\n",
            "34/34 [==============================] - 0s 1ms/step - loss: 0.9909 - mae: 0.9909\n",
            "Epoch 8/100\n",
            "34/34 [==============================] - 0s 1ms/step - loss: 0.9809 - mae: 0.9809\n",
            "Epoch 9/100\n",
            "34/34 [==============================] - 0s 1ms/step - loss: 0.9704 - mae: 0.9704\n",
            "Epoch 10/100\n",
            "34/34 [==============================] - 0s 1ms/step - loss: 0.9656 - mae: 0.9656\n",
            "Epoch 11/100\n",
            "34/34 [==============================] - 0s 1ms/step - loss: 0.9548 - mae: 0.9548\n",
            "Epoch 12/100\n",
            "34/34 [==============================] - 0s 1ms/step - loss: 0.9453 - mae: 0.9453\n",
            "Epoch 13/100\n",
            "34/34 [==============================] - 0s 1ms/step - loss: 0.9292 - mae: 0.9292\n",
            "Epoch 14/100\n",
            "34/34 [==============================] - 0s 1ms/step - loss: 0.9105 - mae: 0.9105\n",
            "Epoch 15/100\n",
            "34/34 [==============================] - 0s 1ms/step - loss: 0.9053 - mae: 0.9053\n",
            "Epoch 16/100\n",
            "34/34 [==============================] - 0s 1ms/step - loss: 0.8975 - mae: 0.8975\n",
            "Epoch 17/100\n",
            "34/34 [==============================] - 0s 1ms/step - loss: 0.8861 - mae: 0.8861\n",
            "Epoch 18/100\n",
            "34/34 [==============================] - 0s 1ms/step - loss: 0.8417 - mae: 0.8417\n",
            "Epoch 19/100\n",
            "34/34 [==============================] - 0s 1ms/step - loss: 0.8704 - mae: 0.8704\n",
            "Epoch 20/100\n",
            "34/34 [==============================] - 0s 1ms/step - loss: 0.8519 - mae: 0.8519\n",
            "Epoch 21/100\n",
            "34/34 [==============================] - 0s 1ms/step - loss: 0.8438 - mae: 0.8438\n",
            "Epoch 22/100\n",
            "34/34 [==============================] - 0s 1ms/step - loss: 0.8177 - mae: 0.8177\n",
            "Epoch 23/100\n",
            "34/34 [==============================] - 0s 1ms/step - loss: 0.8055 - mae: 0.8055\n",
            "Epoch 24/100\n",
            "34/34 [==============================] - 0s 1ms/step - loss: 0.7782 - mae: 0.7782\n",
            "Epoch 25/100\n",
            "34/34 [==============================] - 0s 1ms/step - loss: 0.7707 - mae: 0.7707\n",
            "Epoch 26/100\n",
            "34/34 [==============================] - 0s 1ms/step - loss: 0.8235 - mae: 0.8235\n",
            "Epoch 27/100\n",
            "34/34 [==============================] - 0s 1ms/step - loss: 0.7694 - mae: 0.7694\n",
            "Epoch 28/100\n",
            "34/34 [==============================] - 0s 1ms/step - loss: 0.7621 - mae: 0.7621\n",
            "Epoch 29/100\n",
            "34/34 [==============================] - 0s 1000us/step - loss: 0.7188 - mae: 0.7188\n",
            "Epoch 30/100\n",
            "34/34 [==============================] - 0s 1ms/step - loss: 0.7283 - mae: 0.7283\n",
            "Epoch 31/100\n",
            "34/34 [==============================] - 0s 1ms/step - loss: 0.7309 - mae: 0.7309\n",
            "Epoch 32/100\n",
            "34/34 [==============================] - 0s 1ms/step - loss: 0.7118 - mae: 0.7118\n",
            "Epoch 33/100\n",
            "34/34 [==============================] - 0s 1ms/step - loss: 0.7001 - mae: 0.7001\n",
            "Epoch 34/100\n",
            "34/34 [==============================] - 0s 1ms/step - loss: 0.6774 - mae: 0.6774\n",
            "Epoch 35/100\n",
            "34/34 [==============================] - 0s 1ms/step - loss: 0.6825 - mae: 0.6825\n",
            "Epoch 36/100\n",
            "34/34 [==============================] - 0s 1ms/step - loss: 0.7028 - mae: 0.7028\n",
            "Epoch 37/100\n",
            "34/34 [==============================] - 0s 1ms/step - loss: 0.7070 - mae: 0.7070\n",
            "Epoch 38/100\n",
            "34/34 [==============================] - 0s 1ms/step - loss: 0.6479 - mae: 0.6479\n",
            "Epoch 39/100\n",
            "34/34 [==============================] - 0s 1ms/step - loss: 0.6782 - mae: 0.6782\n",
            "Epoch 40/100\n",
            "34/34 [==============================] - 0s 1ms/step - loss: 0.6497 - mae: 0.6497\n",
            "Epoch 41/100\n",
            "34/34 [==============================] - 0s 1ms/step - loss: 0.6622 - mae: 0.6622\n",
            "Epoch 42/100\n",
            "34/34 [==============================] - 0s 1ms/step - loss: 0.6682 - mae: 0.6682\n",
            "Epoch 43/100\n",
            "34/34 [==============================] - 0s 1ms/step - loss: 0.6551 - mae: 0.6551\n",
            "Epoch 44/100\n",
            "34/34 [==============================] - 0s 1ms/step - loss: 0.6553 - mae: 0.6553\n",
            "Epoch 45/100\n",
            "34/34 [==============================] - 0s 1ms/step - loss: 0.6560 - mae: 0.6560\n",
            "Epoch 46/100\n",
            "34/34 [==============================] - 0s 1ms/step - loss: 0.6371 - mae: 0.6371\n",
            "Epoch 47/100\n",
            "34/34 [==============================] - 0s 1ms/step - loss: 0.6167 - mae: 0.6167\n",
            "Epoch 48/100\n",
            "34/34 [==============================] - 0s 1ms/step - loss: 0.6492 - mae: 0.6492\n",
            "Epoch 49/100\n",
            "34/34 [==============================] - 0s 1ms/step - loss: 0.6077 - mae: 0.6077\n",
            "Epoch 50/100\n",
            "34/34 [==============================] - 0s 1ms/step - loss: 0.6221 - mae: 0.6221\n",
            "Epoch 51/100\n",
            "34/34 [==============================] - 0s 1ms/step - loss: 0.6147 - mae: 0.6147\n",
            "Epoch 52/100\n",
            "34/34 [==============================] - 0s 1ms/step - loss: 0.5672 - mae: 0.5672\n",
            "Epoch 53/100\n",
            "34/34 [==============================] - 0s 2ms/step - loss: 0.5863 - mae: 0.5863\n",
            "Epoch 54/100\n",
            "34/34 [==============================] - 0s 976us/step - loss: 0.5720 - mae: 0.5720\n",
            "Epoch 55/100\n",
            "34/34 [==============================] - 0s 1ms/step - loss: 0.5913 - mae: 0.5913\n",
            "Epoch 56/100\n",
            "34/34 [==============================] - 0s 1ms/step - loss: 0.6158 - mae: 0.6158\n",
            "Epoch 57/100\n",
            "34/34 [==============================] - 0s 1ms/step - loss: 0.5579 - mae: 0.5579\n",
            "Epoch 58/100\n",
            "34/34 [==============================] - 0s 970us/step - loss: 0.5537 - mae: 0.5537\n",
            "Epoch 59/100\n",
            "34/34 [==============================] - 0s 998us/step - loss: 0.5792 - mae: 0.5792\n",
            "Epoch 60/100\n",
            "34/34 [==============================] - 0s 1ms/step - loss: 0.5479 - mae: 0.5479\n",
            "Epoch 61/100\n",
            "34/34 [==============================] - 0s 1ms/step - loss: 0.5938 - mae: 0.5938\n",
            "Epoch 62/100\n",
            "34/34 [==============================] - 0s 1ms/step - loss: 0.5393 - mae: 0.5393\n",
            "Epoch 63/100\n",
            "34/34 [==============================] - 0s 1ms/step - loss: 0.5613 - mae: 0.5613\n",
            "Epoch 64/100\n",
            "34/34 [==============================] - 0s 1ms/step - loss: 0.5368 - mae: 0.5368\n",
            "Epoch 65/100\n",
            "34/34 [==============================] - 0s 987us/step - loss: 0.5200 - mae: 0.5200\n",
            "Epoch 66/100\n",
            "34/34 [==============================] - 0s 962us/step - loss: 0.5367 - mae: 0.5367\n",
            "Epoch 67/100\n",
            "34/34 [==============================] - 0s 1ms/step - loss: 0.5430 - mae: 0.5430\n",
            "Epoch 68/100\n",
            "34/34 [==============================] - 0s 1ms/step - loss: 0.5228 - mae: 0.5228\n",
            "Epoch 69/100\n",
            "34/34 [==============================] - 0s 1ms/step - loss: 0.5225 - mae: 0.5225\n",
            "Epoch 70/100\n",
            "34/34 [==============================] - 0s 1ms/step - loss: 0.5476 - mae: 0.5476\n",
            "Epoch 71/100\n",
            "34/34 [==============================] - 0s 1ms/step - loss: 0.5208 - mae: 0.5208\n",
            "Epoch 72/100\n",
            "34/34 [==============================] - 0s 1ms/step - loss: 0.4936 - mae: 0.4936\n",
            "Epoch 73/100\n",
            "34/34 [==============================] - 0s 1ms/step - loss: 0.4921 - mae: 0.4921\n",
            "Epoch 74/100\n",
            "34/34 [==============================] - 0s 1ms/step - loss: 0.4949 - mae: 0.4949\n",
            "Epoch 75/100\n",
            "34/34 [==============================] - 0s 1ms/step - loss: 0.5119 - mae: 0.5119\n",
            "Epoch 76/100\n",
            "34/34 [==============================] - 0s 1ms/step - loss: 0.5315 - mae: 0.5315\n",
            "Epoch 77/100\n",
            "34/34 [==============================] - 0s 990us/step - loss: 0.4751 - mae: 0.4751\n",
            "Epoch 78/100\n",
            "34/34 [==============================] - 0s 1ms/step - loss: 0.5209 - mae: 0.5209\n",
            "Epoch 79/100\n",
            "34/34 [==============================] - 0s 1ms/step - loss: 0.5015 - mae: 0.5015\n",
            "Epoch 80/100\n",
            "34/34 [==============================] - 0s 1ms/step - loss: 0.4815 - mae: 0.4815\n",
            "Epoch 81/100\n",
            "34/34 [==============================] - 0s 1ms/step - loss: 0.4551 - mae: 0.4551\n",
            "Epoch 82/100\n",
            "34/34 [==============================] - 0s 1ms/step - loss: 0.4938 - mae: 0.4938\n",
            "Epoch 83/100\n",
            "34/34 [==============================] - 0s 1ms/step - loss: 0.5196 - mae: 0.5196\n",
            "Epoch 84/100\n",
            "34/34 [==============================] - 0s 1ms/step - loss: 0.4861 - mae: 0.4861\n",
            "Epoch 85/100\n",
            "34/34 [==============================] - 0s 1ms/step - loss: 0.4960 - mae: 0.4960\n",
            "Epoch 86/100\n",
            "34/34 [==============================] - 0s 1ms/step - loss: 0.4638 - mae: 0.4638\n",
            "Epoch 87/100\n",
            "34/34 [==============================] - 0s 1ms/step - loss: 0.4824 - mae: 0.4824\n",
            "Epoch 88/100\n",
            "34/34 [==============================] - 0s 1ms/step - loss: 0.4619 - mae: 0.4619\n",
            "Epoch 89/100\n",
            "34/34 [==============================] - 0s 1ms/step - loss: 0.4693 - mae: 0.4693\n",
            "Epoch 90/100\n",
            "34/34 [==============================] - 0s 1ms/step - loss: 0.4689 - mae: 0.4689\n",
            "Epoch 91/100\n",
            "34/34 [==============================] - 0s 1ms/step - loss: 0.4527 - mae: 0.4527\n",
            "Epoch 92/100\n",
            "34/34 [==============================] - 0s 1ms/step - loss: 0.4571 - mae: 0.4571\n",
            "Epoch 93/100\n",
            "34/34 [==============================] - 0s 985us/step - loss: 0.4721 - mae: 0.4721\n",
            "Epoch 94/100\n",
            "34/34 [==============================] - 0s 1ms/step - loss: 0.4450 - mae: 0.4450\n",
            "Epoch 95/100\n",
            "34/34 [==============================] - 0s 1ms/step - loss: 0.4423 - mae: 0.4423\n",
            "Epoch 96/100\n",
            "34/34 [==============================] - 0s 1ms/step - loss: 0.4778 - mae: 0.4778\n",
            "Epoch 97/100\n",
            "34/34 [==============================] - 0s 1ms/step - loss: 0.4484 - mae: 0.4484\n",
            "Epoch 98/100\n",
            "34/34 [==============================] - 0s 1ms/step - loss: 0.4271 - mae: 0.4271\n",
            "Epoch 99/100\n",
            "34/34 [==============================] - 0s 1ms/step - loss: 0.4515 - mae: 0.4515\n",
            "Epoch 100/100\n",
            "34/34 [==============================] - 0s 981us/step - loss: 0.4236 - mae: 0.4236\n"
          ]
        },
        {
          "output_type": "execute_result",
          "data": {
            "text/plain": [
              "<keras.callbacks.History at 0x7f89ed422e90>"
            ]
          },
          "metadata": {},
          "execution_count": 11
        }
      ]
    },
    {
      "cell_type": "code",
      "metadata": {
        "colab": {
          "base_uri": "https://localhost:8080/"
        },
        "id": "r_yyr07AthHl",
        "outputId": "2c0bd59a-01a5-4433-e117-3eb4d5de9070"
      },
      "source": [
        "# Check the result\n",
        "insurance_model.evaluate(x_test,y_test)"
      ],
      "execution_count": 12,
      "outputs": [
        {
          "output_type": "stream",
          "name": "stdout",
          "text": [
            "9/9 [==============================] - 0s 2ms/step - loss: 0.3526 - mae: 0.3526\n"
          ]
        },
        {
          "output_type": "execute_result",
          "data": {
            "text/plain": [
              "[0.35257720947265625, 0.35257720947265625]"
            ]
          },
          "metadata": {},
          "execution_count": 12
        }
      ]
    },
    {
      "cell_type": "markdown",
      "metadata": {
        "id": "OaAvXmEBt6dT"
      },
      "source": [
        "## The (MAE) Meaning \n",
        "\n",
        "\n",
        "mae in our model is : 0.3526\n",
        "\n",
        "that mean our model wrong by 3526 of the cost .\n",
        "\n",
        "So it give the result with 3526 Gap on the cost .\n",
        "\n",
        "to get the best result i will get tune the model more expirment . \n",
        "\n",
        "My goal is to get Lowest (MAE)."
      ]
    },
    {
      "cell_type": "markdown",
      "metadata": {
        "id": "6Ihieij1u-xV"
      },
      "source": [
        "# Tune The Model"
      ]
    },
    {
      "cell_type": "markdown",
      "metadata": {
        "id": "WTQLUeeevQW7"
      },
      "source": [
        "To Tune the model i will try 3 things :\n",
        "\n",
        "- Increasing the number of layers (2 >3).\n",
        "- Increasing the number of units in eatch layer (except for the output layer).\n",
        "- Chaninging the optimizer (use Adam)."
      ]
    },
    {
      "cell_type": "markdown",
      "metadata": {
        "id": "aTY_TMxGv9IQ"
      },
      "source": [
        "### Model 2"
      ]
    },
    {
      "cell_type": "code",
      "metadata": {
        "id": "NoXBgcYOt0UZ"
      },
      "source": [
        "# Set the random seed\n",
        "tf.random.set_seed(42)\n",
        "\n",
        "# Create the model\n",
        "insurance_model_2 = tf.keras.Sequential([\n",
        "    tf.keras.layers.Dense(100),\n",
        "    tf.keras.layers.Dense(10),\n",
        "    tf.keras.layers.Dense(1)\n",
        "])\n",
        "\n",
        "# Compile the model\n",
        "insurance_model_2.compile(loss= tf.keras.losses.mae,\n",
        "                          optimizer = tf.keras.optimizers.Adam(),\n",
        "                          metrics=['mae'])\n",
        "\n",
        "# Fit the model\n",
        "history = insurance_model_2.fit(x_train,y_train, epochs=100, verbose=0)"
      ],
      "execution_count": 15,
      "outputs": []
    },
    {
      "cell_type": "code",
      "metadata": {
        "colab": {
          "base_uri": "https://localhost:8080/"
        },
        "id": "9saMkmXUx022",
        "outputId": "a98a01a0-75aa-424f-dc19-bb93781dc62e"
      },
      "source": [
        "# Evalute the model\n",
        "insurance_model_2.evaluate(x_test,y_test)"
      ],
      "execution_count": 16,
      "outputs": [
        {
          "output_type": "stream",
          "name": "stdout",
          "text": [
            "9/9 [==============================] - 0s 2ms/step - loss: 0.2895 - mae: 0.2895\n"
          ]
        },
        {
          "output_type": "execute_result",
          "data": {
            "text/plain": [
              "[0.28954562544822693, 0.28954562544822693]"
            ]
          },
          "metadata": {},
          "execution_count": 16
        }
      ]
    },
    {
      "cell_type": "markdown",
      "metadata": {
        "id": "EIeAbQI-yGe6"
      },
      "source": [
        "Mutch more better .!\n",
        "\n",
        "Using the Adam optimizer the result is very good from 1st model.\n",
        "\n"
      ]
    },
    {
      "cell_type": "markdown",
      "metadata": {
        "id": "wQSIe8hEyZR7"
      },
      "source": [
        "## Check The Loss Curve"
      ]
    },
    {
      "cell_type": "code",
      "metadata": {
        "colab": {
          "base_uri": "https://localhost:8080/",
          "height": 279
        },
        "id": "5tcxPrwhyBBh",
        "outputId": "955de3ad-22f9-4a80-b876-fcd235c55a53"
      },
      "source": [
        "# Plot history ( loss curve )\n",
        "pd.DataFrame(history.history).plot()\n",
        "plt.xlabel('Loss')\n",
        "plt.ylabel('Epochs');"
      ],
      "execution_count": 18,
      "outputs": [
        {
          "output_type": "display_data",
          "data": {
            "image/png": "[encoded data removed]",
            "text/plain": [
              "<Figure size 432x288 with 1 Axes>"
            ]
          },
          "metadata": {
            "needs_background": "light"
          }
        }
      ]
    },
    {
      "cell_type": "markdown",
      "metadata": {
        "id": "XhGDzTa0zkJn"
      },
      "source": [
        "Train the same model for longer , i will add 100 more epochs"
      ]
    },
    {
      "cell_type": "code",
      "metadata": {
        "id": "xq2MTydbztK_"
      },
      "source": [
        "history_2 = insurance_model_2.fit(x_train,y_train, epochs=100, verbose=0)"
      ],
      "execution_count": 19,
      "outputs": []
    },
    {
      "cell_type": "markdown",
      "metadata": {
        "id": "nd_HgCB7z7Nd"
      },
      "source": [
        "How did the extra 100 training go ?"
      ]
    },
    {
      "cell_type": "code",
      "metadata": {
        "colab": {
          "base_uri": "https://localhost:8080/"
        },
        "id": "1hDGWu630CPb",
        "outputId": "9742f40d-945f-4320-83bb-f199f7724759"
      },
      "source": [
        "# Evalute the model for 200 total epochs\n",
        "\n",
        "insurance_model_2_loss, insurance_model_2_mae = insurance_model_2.evaluate(x_test,y_test)\n",
        "insurance_model_2_loss, insurance_model_2_mae"
      ],
      "execution_count": 20,
      "outputs": [
        {
          "output_type": "stream",
          "name": "stdout",
          "text": [
            "9/9 [==============================] - 0s 2ms/step - loss: 0.1716 - mae: 0.1716\n"
          ]
        },
        {
          "output_type": "execute_result",
          "data": {
            "text/plain": [
              "(0.17158864438533783, 0.17158864438533783)"
            ]
          },
          "metadata": {},
          "execution_count": 20
        }
      ]
    },
    {
      "cell_type": "markdown",
      "metadata": {
        "id": "UpVtnwsb0r3v"
      },
      "source": [
        "Traning for 100 extra epoch give about 45% decress in error.\n",
        "\n",
        "How about the visulize.?"
      ]
    },
    {
      "cell_type": "code",
      "metadata": {
        "colab": {
          "base_uri": "https://localhost:8080/",
          "height": 279
        },
        "id": "j2dmk1OO1ADs",
        "outputId": "632cb869-b600-4209-8ed0-78fd45ff270b"
      },
      "source": [
        "pd.DataFrame(history_2.history).plot()\n",
        "plt.xlabel('Loss')\n",
        "plt.ylabel('Epochs'); #Note it will show only 100 since i overrid the history variable"
      ],
      "execution_count": 21,
      "outputs": [
        {
          "output_type": "display_data",
          "data": {
            "image/png": "[encoded data removed]",
            "text/plain": [
              "<Figure size 432x288 with 1 Axes>"
            ]
          },
          "metadata": {
            "needs_background": "light"
          }
        }
      ]
    },
    {
      "cell_type": "markdown",
      "metadata": {
        "id": "ITcLppPf2EHy"
      },
      "source": [
        "# Preprossing the data ( normalization )"
      ]
    },
    {
      "cell_type": "markdown",
      "metadata": {
        "id": "tPAkjb2j2dDf"
      },
      "source": [
        "**Normalization** : is Scalling the value from their orginal to 0 and 1.\n",
        "\n",
        "**The Nural Network tend to prefer normalization**"
      ]
    },
    {
      "cell_type": "code",
      "metadata": {
        "colab": {
          "base_uri": "https://localhost:8080/",
          "height": 203
        },
        "id": "jpUvGte_3G_8",
        "outputId": "57020b39-2577-4f9b-ba42-855a1e240fb0"
      },
      "source": [
        "insurance.head()"
      ],
      "execution_count": 22,
      "outputs": [
        {
          "output_type": "execute_result",
          "data": {
            "text/html": [
              "<div>\n",
              "<style scoped>\n",
              "    .dataframe tbody tr th:only-of-type {\n",
              "        vertical-align: middle;\n",
              "    }\n",
              "\n",
              "    .dataframe tbody tr th {\n",
              "        vertical-align: top;\n",
              "    }\n",
              "\n",
              "    .dataframe thead th {\n",
              "        text-align: right;\n",
              "    }\n",
              "</style>\n",
              "<table border=\"1\" class=\"dataframe\">\n",
              "  <thead>\n",
              "    <tr style=\"text-align: right;\">\n",
              "      <th></th>\n",
              "      <th>age</th>\n",
              "      <th>sex</th>\n",
              "      <th>bmi</th>\n",
              "      <th>children</th>\n",
              "      <th>smoker</th>\n",
              "      <th>region</th>\n",
              "      <th>charges</th>\n",
              "    </tr>\n",
              "  </thead>\n",
              "  <tbody>\n",
              "    <tr>\n",
              "      <th>0</th>\n",
              "      <td>19</td>\n",
              "      <td>female</td>\n",
              "      <td>27.900</td>\n",
              "      <td>0</td>\n",
              "      <td>yes</td>\n",
              "      <td>southwest</td>\n",
              "      <td>16884.92400</td>\n",
              "    </tr>\n",
              "    <tr>\n",
              "      <th>1</th>\n",
              "      <td>18</td>\n",
              "      <td>male</td>\n",
              "      <td>33.770</td>\n",
              "      <td>1</td>\n",
              "      <td>no</td>\n",
              "      <td>southeast</td>\n",
              "      <td>1725.55230</td>\n",
              "    </tr>\n",
              "    <tr>\n",
              "      <th>2</th>\n",
              "      <td>28</td>\n",
              "      <td>male</td>\n",
              "      <td>33.000</td>\n",
              "      <td>3</td>\n",
              "      <td>no</td>\n",
              "      <td>southeast</td>\n",
              "      <td>4449.46200</td>\n",
              "    </tr>\n",
              "    <tr>\n",
              "      <th>3</th>\n",
              "      <td>33</td>\n",
              "      <td>male</td>\n",
              "      <td>22.705</td>\n",
              "      <td>0</td>\n",
              "      <td>no</td>\n",
              "      <td>northwest</td>\n",
              "      <td>21984.47061</td>\n",
              "    </tr>\n",
              "    <tr>\n",
              "      <th>4</th>\n",
              "      <td>32</td>\n",
              "      <td>male</td>\n",
              "      <td>28.880</td>\n",
              "      <td>0</td>\n",
              "      <td>no</td>\n",
              "      <td>northwest</td>\n",
              "      <td>3866.85520</td>\n",
              "    </tr>\n",
              "  </tbody>\n",
              "</table>\n",
              "</div>"
            ],
            "text/plain": [
              "   age     sex     bmi  children smoker     region      charges\n",
              "0   19  female  27.900         0    yes  southwest  16884.92400\n",
              "1   18    male  33.770         1     no  southeast   1725.55230\n",
              "2   28    male  33.000         3     no  southeast   4449.46200\n",
              "3   33    male  22.705         0     no  northwest  21984.47061\n",
              "4   32    male  28.880         0     no  northwest   3866.85520"
            ]
          },
          "metadata": {},
          "execution_count": 22
        }
      ]
    },
    {
      "cell_type": "code",
      "metadata": {
        "id": "oVNX_IST3tp-"
      },
      "source": [
        "from sklearn.compose import make_column_transformer\n",
        "from sklearn.preprocessing import MinMaxScaler, OneHotEncoder\n",
        "\n",
        "# Create columns transformer (this will help my normalize/preprossing the data)\n",
        "ct = make_column_transformer(\n",
        "    (MinMaxScaler(),['age','bmi','children']), #get all value between 0 and 1\n",
        "    (OneHotEncoder(handle_unknown='ignore'),['sex', 'smoker', 'region'])\n",
        ")\n",
        "\n",
        "# Create x and y\n",
        "x= insurance.drop('charges',axis=1)\n",
        "y= insurance['charges']\n",
        "\n",
        "# Split to train and test\n",
        "x_train,x_test,y_train,y_test= train_test_split(x,y, test_size=0.2, random_state=42)\n",
        "\n",
        "# Fit coulmns transformed on the training data ONLY\n",
        "ct.fit(x_train)\n",
        "\n",
        "# Transform training and test data with normaliztion and OneHotEncoding\n",
        "x_train_normal = ct.transform(x_train)\n",
        "x_test_normal = ct.transform(x_test)\n"
      ],
      "execution_count": 24,
      "outputs": []
    },
    {
      "cell_type": "markdown",
      "metadata": {
        "id": "pTtu0Eb46oKs"
      },
      "source": [
        "Check what the data look now .?"
      ]
    },
    {
      "cell_type": "code",
      "metadata": {
        "colab": {
          "base_uri": "https://localhost:8080/"
        },
        "id": "_rqKqKuP63Ul",
        "outputId": "95ef044b-6d1a-4615-be82-448e7515a008"
      },
      "source": [
        "# Non normalize data\n",
        "x_train.loc[0]"
      ],
      "execution_count": 25,
      "outputs": [
        {
          "output_type": "execute_result",
          "data": {
            "text/plain": [
              "age                19\n",
              "sex            female\n",
              "bmi              27.9\n",
              "children            0\n",
              "smoker            yes\n",
              "region      southwest\n",
              "Name: 0, dtype: object"
            ]
          },
          "metadata": {},
          "execution_count": 25
        }
      ]
    },
    {
      "cell_type": "code",
      "metadata": {
        "colab": {
          "base_uri": "https://localhost:8080/"
        },
        "id": "Q70iHv_F7AWj",
        "outputId": "ced9b233-95e3-4bec-a502-7b2447ca4665"
      },
      "source": [
        "# Normlize data\n",
        "x_train_normal[0]"
      ],
      "execution_count": 26,
      "outputs": [
        {
          "output_type": "execute_result",
          "data": {
            "text/plain": [
              "array([0.60869565, 0.10734463, 0.4       , 1.        , 0.        ,\n",
              "       1.        , 0.        , 0.        , 1.        , 0.        ,\n",
              "       0.        ])"
            ]
          },
          "metadata": {},
          "execution_count": 26
        }
      ]
    },
    {
      "cell_type": "code",
      "metadata": {
        "colab": {
          "base_uri": "https://localhost:8080/"
        },
        "id": "GySEy0Hz7H9k",
        "outputId": "be1c0201-09ad-43c2-fad6-c44ffbab48b5"
      },
      "source": [
        "# Chack the shape ( it will be larger becouse the one hot encoding and normalization that will make extra columns)\n",
        "x_train_normal.shape, x_train.shape"
      ],
      "execution_count": 27,
      "outputs": [
        {
          "output_type": "execute_result",
          "data": {
            "text/plain": [
              "((1070, 11), (1070, 6))"
            ]
          },
          "metadata": {},
          "execution_count": 27
        }
      ]
    },
    {
      "cell_type": "markdown",
      "metadata": {
        "id": "baEhzrb67kvd"
      },
      "source": [
        "Ready and good to Modeling "
      ]
    },
    {
      "cell_type": "markdown",
      "metadata": {
        "id": "b4nCp0nz7v4Z"
      },
      "source": [
        "## Model 3"
      ]
    },
    {
      "cell_type": "code",
      "metadata": {
        "colab": {
          "base_uri": "https://localhost:8080/"
        },
        "id": "AYwEj2zg7uxW",
        "outputId": "044e78a6-4663-4997-994f-c0fdc45f94d5"
      },
      "source": [
        "# Set the random seed\n",
        "tf.random.set_seed(42)\n",
        "\n",
        "# Create the model\n",
        "insurance_model_3 = tf.keras.Sequential([\n",
        "    tf.keras.layers.Dense(100),\n",
        "    tf.keras.layers.Dense(10),\n",
        "    tf.keras.layers.Dense(1)\n",
        "])\n",
        "\n",
        "# Compile the model\n",
        "insurance_model_3.compile(loss = tf.keras.losses.mae,\n",
        "                          optimizer= tf.keras.optimizers.Adam(),\n",
        "                          metrics=['mae'])\n",
        "\n",
        "# Fit the model\n",
        "insurance_model_3.fit(x_train_normal,y_train, epochs=500,verbose=0)"
      ],
      "execution_count": 32,
      "outputs": [
        {
          "output_type": "execute_result",
          "data": {
            "text/plain": [
              "<keras.callbacks.History at 0x7f89ec4ae150>"
            ]
          },
          "metadata": {},
          "execution_count": 32
        }
      ]
    },
    {
      "cell_type": "markdown",
      "metadata": {
        "id": "7aw3BOuP8-vg"
      },
      "source": [
        "Evalute the model with normalize data"
      ]
    },
    {
      "cell_type": "code",
      "metadata": {
        "colab": {
          "base_uri": "https://localhost:8080/"
        },
        "id": "bNhhpTvf9ckQ",
        "outputId": "51ce451c-dd59-4f12-ad8b-8ce7abf34c7c"
      },
      "source": [
        "insurance_model_3_loss, insurance_model_3_mae = insurance_model_3.evaluate(x_test_normal,y_test)"
      ],
      "execution_count": 33,
      "outputs": [
        {
          "output_type": "stream",
          "name": "stdout",
          "text": [
            "9/9 [==============================] - 0s 2ms/step - loss: 3160.7495 - mae: 3160.7495\n"
          ]
        }
      ]
    },
    {
      "cell_type": "markdown",
      "metadata": {
        "id": "G3jJBQA4-oLz"
      },
      "source": [
        "From this we can see normilzing the data result in 10% less error using the same model than not normalizing the data.\n"
      ]
    },
    {
      "cell_type": "markdown",
      "metadata": {
        "id": "a6sN5WJC_Im8"
      },
      "source": [
        "# Save The Model"
      ]
    },
    {
      "cell_type": "code",
      "metadata": {
        "id": "UjuPKm6D_Hib"
      },
      "source": [
        "insurance_model_2.save('Insurance Model_2.h5')"
      ],
      "execution_count": 35,
      "outputs": []
    },
    {
      "cell_type": "code",
      "metadata": {
        "colab": {
          "base_uri": "https://localhost:8080/"
        },
        "id": "1ShXPhLs_aBF",
        "outputId": "3af02e66-f444-4a46-fc79-2899f728cc9a"
      },
      "source": [
        "!ls Insurance\\ Model_2.h5"
      ],
      "execution_count": 36,
      "outputs": [
        {
          "output_type": "stream",
          "name": "stdout",
          "text": [
            "'Insurance Model_2.h5'\n"
          ]
        }
      ]
    },
    {
      "cell_type": "code",
      "metadata": {
        "colab": {
          "base_uri": "https://localhost:8080/"
        },
        "id": "6QudZ7Zy_ucX",
        "outputId": "a0b368a8-5acd-422d-a443-29cb4384d50c"
      },
      "source": [
        "loaded_model = tf.keras.models.load_model('Insurance Model_2.h5')\n",
        "loaded_model.summary()"
      ],
      "execution_count": 37,
      "outputs": [
        {
          "output_type": "stream",
          "name": "stdout",
          "text": [
            "Model: \"sequential_4\"\n",
            "_________________________________________________________________\n",
            "Layer (type)                 Output Shape              Param #   \n",
            "=================================================================\n",
            "dense_9 (Dense)              (None, 100)               1200      \n",
            "_________________________________________________________________\n",
            "dense_10 (Dense)             (None, 10)                1010      \n",
            "_________________________________________________________________\n",
            "dense_11 (Dense)             (None, 1)                 11        \n",
            "=================================================================\n",
            "Total params: 2,221\n",
            "Trainable params: 2,221\n",
            "Non-trainable params: 0\n",
            "_________________________________________________________________\n"
          ]
        }
      ]
    },
    {
      "cell_type": "markdown",
      "metadata": {
        "id": "-kTS3JnlAVV5"
      },
      "source": [
        "# Download The Model From Colab"
      ]
    },
    {
      "cell_type": "code",
      "metadata": {
        "colab": {
          "base_uri": "https://localhost:8080/",
          "height": 17
        },
        "id": "pxWUPlre_-Tn",
        "outputId": "40c8fb2b-0814-4b76-e56f-d66f76e56025"
      },
      "source": [
        "from google.colab import files\n",
        "files.download('Insurance Model_2.h5')"
      ],
      "execution_count": 39,
      "outputs": [
        {
          "output_type": "display_data",
          "data": {
            "application/javascript": [
              "\n",
              "    async function download(id, filename, size) {\n",
              "      if (!google.colab.kernel.accessAllowed) {\n",
              "        return;\n",
              "      }\n",
              "      const div = document.createElement('div');\n",
              "      const label = document.createElement('label');\n",
              "      label.textContent = `Downloading \"${filename}\": `;\n",
              "      div.appendChild(label);\n",
              "      const progress = document.createElement('progress');\n",
              "      progress.max = size;\n",
              "      div.appendChild(progress);\n",
              "      document.body.appendChild(div);\n",
              "\n",
              "      const buffers = [];\n",
              "      let downloaded = 0;\n",
              "\n",
              "      const channel = await google.colab.kernel.comms.open(id);\n",
              "      // Send a message to notify the kernel that we're ready.\n",
              "      channel.send({})\n",
              "\n",
              "      for await (const message of channel.messages) {\n",
              "        // Send a message to notify the kernel that we're ready.\n",
              "        channel.send({})\n",
              "        if (message.buffers) {\n",
              "          for (const buffer of message.buffers) {\n",
              "            buffers.push(buffer);\n",
              "            downloaded += buffer.byteLength;\n",
              "            progress.value = downloaded;\n",
              "          }\n",
              "        }\n",
              "      }\n",
              "      const blob = new Blob(buffers, {type: 'application/binary'});\n",
              "      const a = document.createElement('a');\n",
              "      a.href = window.URL.createObjectURL(blob);\n",
              "      a.download = filename;\n",
              "      div.appendChild(a);\n",
              "      a.click();\n",
              "      div.remove();\n",
              "    }\n",
              "  "
            ],
            "text/plain": [
              "<IPython.core.display.Javascript object>"
            ]
          },
          "metadata": {}
        },
        {
          "output_type": "display_data",
          "data": {
            "application/javascript": [
              "download(\"download_e967c9a3-8433-40ec-baaa-323cf7158107\", \"Insurance Model_2.h5\", 58448)"
            ],
            "text/plain": [
              "<IPython.core.display.Javascript object>"
            ]
          },
          "metadata": {}
        }
      ]
    },
    {
      "cell_type": "code",
      "metadata": {
        "id": "95Hi-el_Aovq"
      },
      "source": [
        ""
      ],
      "execution_count": null,
      "outputs": []
    }
  ]
}