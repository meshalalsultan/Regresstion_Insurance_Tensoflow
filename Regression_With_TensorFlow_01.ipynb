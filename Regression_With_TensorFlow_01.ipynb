{
  "nbformat": 4,
  "nbformat_minor": 0,
  "metadata": {
    "colab": {
      "name": "Regression With TensorFlow_01.ipynb",
      "provenance": [],
      "collapsed_sections": [],
      "authorship_tag": "ABX9TyPgrbPS3nq5XAuiUJJmvRpx",
      "include_colab_link": true
    },
    "kernelspec": {
      "display_name": "Python 3",
      "name": "python3"
    },
    "language_info": {
      "name": "python"
    }
  },
  "cells": [
    {
      "cell_type": "markdown",
      "metadata": {
        "id": "view-in-github",
        "colab_type": "text"
      },
      "source": [
        "<a href=\"https://colab.research.google.com/github/meshalalsultan/Tensoflow/blob/main/Regression_With_TensorFlow_01.ipynb\" target=\"_parent\"><img src=\"https://colab.research.google.com/assets/colab-badge.svg\" alt=\"Open In Colab\"/></a>"
      ]
    },
    {
      "cell_type": "markdown",
      "metadata": {
        "id": "zEluuXVqULh1"
      },
      "source": [
        "This NoteBook To Try to build a Regression Model With TensorFlow , I try to make a full model from scratch to sout problem in hand ( will see it after ) , My plan to do it by :\n",
        "\n",
        "1. Build small model with rndom data .\n",
        "2. Build 3 Models with Miner change to hypertune and chose the best model to .\n",
        "3. Build Model with Real Data ."
      ]
    },
    {
      "cell_type": "code",
      "metadata": {
        "colab": {
          "base_uri": "https://localhost:8080/"
        },
        "id": "QJfAGCpHVkqg",
        "outputId": "5d5ba3ad-8a81-42ae-9253-5e3533e63fc1"
      },
      "source": [
        "# Get the TensorFlow\n",
        "import numpy as np\n",
        "import tensorflow as tf\n",
        "print(tf.__version__)"
      ],
      "execution_count": null,
      "outputs": [
        {
          "output_type": "stream",
          "name": "stdout",
          "text": [
            "2.6.0\n"
          ]
        }
      ]
    },
    {
      "cell_type": "code",
      "metadata": {
        "colab": {
          "base_uri": "https://localhost:8080/"
        },
        "id": "oxFKuZT5Vy1S",
        "outputId": "5388a6be-7206-4d01-b207-8fb45fd4f146"
      },
      "source": [
        "# Make the random data\n",
        "\n",
        "x = np.arange(-100,100,4)\n",
        "x"
      ],
      "execution_count": null,
      "outputs": [
        {
          "output_type": "execute_result",
          "data": {
            "text/plain": [
              "array([-100,  -96,  -92,  -88,  -84,  -80,  -76,  -72,  -68,  -64,  -60,\n",
              "        -56,  -52,  -48,  -44,  -40,  -36,  -32,  -28,  -24,  -20,  -16,\n",
              "        -12,   -8,   -4,    0,    4,    8,   12,   16,   20,   24,   28,\n",
              "         32,   36,   40,   44,   48,   52,   56,   60,   64,   68,   72,\n",
              "         76,   80,   84,   88,   92,   96])"
            ]
          },
          "metadata": {},
          "execution_count": 32
        }
      ]
    },
    {
      "cell_type": "code",
      "metadata": {
        "colab": {
          "base_uri": "https://localhost:8080/"
        },
        "id": "1mKXKCEPWZey",
        "outputId": "a704695b-f6f9-40f4-b617-10f8efa6cb4d"
      },
      "source": [
        "y= np.arange(-90,110,4)\n",
        "y"
      ],
      "execution_count": null,
      "outputs": [
        {
          "output_type": "execute_result",
          "data": {
            "text/plain": [
              "array([-90, -86, -82, -78, -74, -70, -66, -62, -58, -54, -50, -46, -42,\n",
              "       -38, -34, -30, -26, -22, -18, -14, -10,  -6,  -2,   2,   6,  10,\n",
              "        14,  18,  22,  26,  30,  34,  38,  42,  46,  50,  54,  58,  62,\n",
              "        66,  70,  74,  78,  82,  86,  90,  94,  98, 102, 106])"
            ]
          },
          "metadata": {},
          "execution_count": 33
        }
      ]
    },
    {
      "cell_type": "code",
      "metadata": {
        "colab": {
          "base_uri": "https://localhost:8080/"
        },
        "id": "MPqP6tMDWjJf",
        "outputId": "3eda3fc2-0e22-4e02-a4cb-786c04cf3709"
      },
      "source": [
        "x.shape"
      ],
      "execution_count": null,
      "outputs": [
        {
          "output_type": "execute_result",
          "data": {
            "text/plain": [
              "(50,)"
            ]
          },
          "metadata": {},
          "execution_count": 34
        }
      ]
    },
    {
      "cell_type": "markdown",
      "metadata": {
        "id": "gADmIT6NWo1n"
      },
      "source": [
        "Split The data to training and test "
      ]
    },
    {
      "cell_type": "code",
      "metadata": {
        "colab": {
          "base_uri": "https://localhost:8080/"
        },
        "id": "DhFlKeGGW15a",
        "outputId": "6d9da54d-d3ba-497b-f3be-2b246b0a6d19"
      },
      "source": [
        "len(x)"
      ],
      "execution_count": null,
      "outputs": [
        {
          "output_type": "execute_result",
          "data": {
            "text/plain": [
              "50"
            ]
          },
          "metadata": {},
          "execution_count": 35
        }
      ]
    },
    {
      "cell_type": "code",
      "metadata": {
        "colab": {
          "base_uri": "https://localhost:8080/"
        },
        "id": "LSRxdJTgW3c_",
        "outputId": "614637cf-4da2-45e0-8408-9a0ffb1004ec"
      },
      "source": [
        "x_train = x[:40] #get 80% of x data\n",
        "y_train = y[:40] \n",
        "\n",
        "x_test = x[40:]\n",
        "y_test = y[40:] #Get the 10% to test \n",
        "\n",
        "len(x_train), len(x_test)"
      ],
      "execution_count": null,
      "outputs": [
        {
          "output_type": "execute_result",
          "data": {
            "text/plain": [
              "(40, 10)"
            ]
          },
          "metadata": {},
          "execution_count": 36
        }
      ]
    },
    {
      "cell_type": "markdown",
      "metadata": {
        "id": "wIBHtTfhX3rL"
      },
      "source": [
        "## Visulaize The Data"
      ]
    },
    {
      "cell_type": "code",
      "metadata": {
        "id": "PQoE351qYA82"
      },
      "source": [
        "import matplotlib.pyplot as plt"
      ],
      "execution_count": null,
      "outputs": []
    },
    {
      "cell_type": "code",
      "metadata": {
        "colab": {
          "base_uri": "https://localhost:8080/",
          "height": 445
        },
        "id": "Jg4HoiOpYGdR",
        "outputId": "6444f83c-4350-474f-beba-7dcb9421a25b"
      },
      "source": [
        "plt.figure(figsize=(10,7))\n",
        "#plt the training data in blue\n",
        "plt.scatter(x_train, y_train, c='b', label='Training data')\n",
        "\n",
        "#plot the test data in green\n",
        "plt.scatter(x_test, y_test, c='g', label='testing data')\n",
        "#Show the legend\n",
        "plt.legend()"
      ],
      "execution_count": null,
      "outputs": [
        {
          "output_type": "execute_result",
          "data": {
            "text/plain": [
              "<matplotlib.legend.Legend at 0x7f01b9954f10>"
            ]
          },
          "metadata": {},
          "execution_count": 38
        },
        {
          "output_type": "display_data",
          "data": {
            "image/png": "[encoded data removed]",
            "text/plain": [
              "<Figure size 720x504 with 1 Axes>"
            ]
          },
          "metadata": {
            "needs_background": "light"
          }
        }
      ]
    },
    {
      "cell_type": "markdown",
      "metadata": {
        "id": "bRxotobGty39"
      },
      "source": [
        "# Build the Model "
      ]
    },
    {
      "cell_type": "code",
      "metadata": {
        "id": "M6l05zlJuD-u"
      },
      "source": [
        "# Ste the random seed\n",
        "tf.random.set_seed(42)\n",
        "\n",
        "# Cretae a Model \n",
        "model = tf.keras.Sequential([\n",
        "    tf.keras.layers.Dense(1)\n",
        "])\n",
        "\n",
        "# Compile model \n",
        "model.compile(loss=tf.keras.losses.mae,\n",
        "              optimizer=tf.keras.optimizers.SGD(),\n",
        "              metrics=['mae'])"
      ],
      "execution_count": null,
      "outputs": []
    },
    {
      "cell_type": "markdown",
      "metadata": {
        "id": "B0dj3XL80MyB"
      },
      "source": [
        "For Now all we need to think of this parameters is that theier learnable pattren in data.\n"
      ]
    },
    {
      "cell_type": "markdown",
      "metadata": {
        "id": "dV0xNq1P3s4b"
      },
      "source": [
        "**Lets Fit the model**"
      ]
    },
    {
      "cell_type": "code",
      "metadata": {
        "colab": {
          "base_uri": "https://localhost:8080/"
        },
        "id": "_oMwqBDBwr0v",
        "outputId": "627d1b3d-7f24-4dcd-efd6-177b2f943cdc"
      },
      "source": [
        "# Fit the model to the trainig data\n",
        "\n",
        "model.fit(x_train, y_train, epochs=100, verbose=0) #verbose controles how much gets output"
      ],
      "execution_count": null,
      "outputs": [
        {
          "output_type": "execute_result",
          "data": {
            "text/plain": [
              "<keras.callbacks.History at 0x7f01b9974410>"
            ]
          },
          "metadata": {},
          "execution_count": 40
        }
      ]
    },
    {
      "cell_type": "code",
      "metadata": {
        "colab": {
          "base_uri": "https://localhost:8080/"
        },
        "id": "C9PYnqT83VZC",
        "outputId": "fd16f78d-c3fd-4eca-902e-a2b4bc42de20"
      },
      "source": [
        "#Now let's check the model summary\n",
        "model.summary()"
      ],
      "execution_count": null,
      "outputs": [
        {
          "output_type": "stream",
          "name": "stdout",
          "text": [
            "Model: \"sequential_5\"\n",
            "_________________________________________________________________\n",
            "Layer (type)                 Output Shape              Param #   \n",
            "=================================================================\n",
            "dense_5 (Dense)              (None, 1)                 2         \n",
            "=================================================================\n",
            "Total params: 2\n",
            "Trainable params: 2\n",
            "Non-trainable params: 0\n",
            "_________________________________________________________________\n"
          ]
        }
      ]
    },
    {
      "cell_type": "markdown",
      "metadata": {
        "id": "jXwwEPdUwxUD"
      },
      "source": [
        "Calling Summary() on our model showes us the layers it contains, the output shape and the number of parameters .\n",
        "\n",
        "**Total params** - total number of parameters in the model.\n",
        "\n",
        "**Trainabel parameters** - these are the parameters (pattren) the model can update as it trains\n",
        "\n",
        "**Non-Training parameters** - these parameters aren't updated during training (this is typacaliy when you bring in the alrady learnind pattrens from other models during transfer learning)"
      ]
    },
    {
      "cell_type": "markdown",
      "metadata": {
        "id": "o1ybNj2V4AcS"
      },
      "source": [
        "# Visulize the Predection\n",
        "\n",
        "Now we've got a trained model, let's visulize some predections.\n",
        "\n",
        "To visulize predection, its always a good idea to plot them againest truth labels.\n",
        "\n",
        "Often you'll see this in the form of y_test vs y_pred (ground truth vs predection).\n",
        "\n",
        "First, We'll make some predection on the test data(x_test)."
      ]
    },
    {
      "cell_type": "code",
      "metadata": {
        "id": "H5RrQdO33deN"
      },
      "source": [
        "#Make Predection\n",
        "y_pred = model.predict(x_test)"
      ],
      "execution_count": null,
      "outputs": []
    },
    {
      "cell_type": "code",
      "metadata": {
        "colab": {
          "base_uri": "https://localhost:8080/"
        },
        "id": "jMF3A-XZ5hex",
        "outputId": "f3da7690-9426-44e7-c68f-17d7fa7c8807"
      },
      "source": [
        "# View the predection\n",
        "y_pred"
      ],
      "execution_count": null,
      "outputs": [
        {
          "output_type": "execute_result",
          "data": {
            "text/plain": [
              "array([[53.57109 ],\n",
              "       [57.05633 ],\n",
              "       [60.541573],\n",
              "       [64.02681 ],\n",
              "       [67.512054],\n",
              "       [70.99729 ],\n",
              "       [74.48254 ],\n",
              "       [77.96777 ],\n",
              "       [81.45301 ],\n",
              "       [84.938255]], dtype=float32)"
            ]
          },
          "metadata": {},
          "execution_count": 43
        }
      ]
    },
    {
      "cell_type": "markdown",
      "metadata": {
        "id": "a3uPezqp6Tup"
      },
      "source": [
        "Ok, we get a list of numbers but how these compare to the ground truth labels?\n",
        "\n",
        "Let's build a plotting function to find out .\n",
        "\n"
      ]
    },
    {
      "cell_type": "code",
      "metadata": {
        "id": "G_ETF8VO5qp3"
      },
      "source": [
        "def plot_pred(train_data=x_train,\n",
        "              train_labels=y_train,\n",
        "              test_data=x_test,\n",
        "              test_labels=y_test,\n",
        "              predection=y_pred):\n",
        "  '''\n",
        "  Plot training data, test data and compare a Predection\n",
        "  '''\n",
        "  plt.figure(figsize=(10,7))\n",
        "  #Plot training data in blue\n",
        "  plt.scatter(train_data, train_labels, c='b', label= 'Trainnig data')\n",
        "  #Plot test data in green\n",
        "  plt.scatter(test_data, test_labels, c='g',label='Testing data')\n",
        "  #Plot the predection in red (predections were made on the test data)\n",
        "  plt.scatter(test_data, predection, c='r', label='Predections')\n",
        "  #Show the legend\n",
        "  plt.legend();"
      ],
      "execution_count": null,
      "outputs": []
    },
    {
      "cell_type": "code",
      "metadata": {
        "colab": {
          "base_uri": "https://localhost:8080/",
          "height": 428
        },
        "id": "GNmrHV1A-x7b",
        "outputId": "9d24f120-4915-4fdf-e464-d7d362e31c3d"
      },
      "source": [
        "plot_pred(train_data=x_train,\n",
        "          train_labels=y_train,\n",
        "          test_data=x_test,\n",
        "          test_labels=y_test,\n",
        "          predection=y_pred)"
      ],
      "execution_count": null,
      "outputs": [
        {
          "output_type": "display_data",
          "data": {
            "image/png": "[encoded data removed]",
            "text/plain": [
              "<Figure size 720x504 with 1 Axes>"
            ]
          },
          "metadata": {
            "needs_background": "light"
          }
        }
      ]
    },
    {
      "cell_type": "markdown",
      "metadata": {
        "id": "PkUgMDxcAMzn"
      },
      "source": [
        "From the plot we can see our predection aren't totaly outlandish but they definitely aren't anythings special either."
      ]
    },
    {
      "cell_type": "markdown",
      "metadata": {
        "id": "k5ia97dMAlPw"
      },
      "source": [
        "# Evaluting Predections\n",
        "\n",
        "Alongside visulization, evaulations metrix are your alternative best option for evaluating the model.\n",
        "\n",
        "Depending on the problem we are working on , diffrint models have diffrint evaluation  metrics.\n",
        "\n",
        "There are two of the main metrics used for regression problems :\n",
        "\n",
        "1. **Mean absolute error (MAE)** - The mean diffrince between eatch of the predections.\n",
        "\n",
        "2. **Mean squared error (MSE)** - the squaired mean diffrince between of the predection  (use if larger error are more detrimental than samller error).\n",
        "\n",
        "### The Lower eatch of these values, **THE BETTER**\n",
        "\n",
        "\n",
        "You can also use `model_evaluate()`. witch will return the loss of the model as well as many metrics setup during the compile step."
      ]
    },
    {
      "cell_type": "code",
      "metadata": {
        "colab": {
          "base_uri": "https://localhost:8080/"
        },
        "id": "ZKCSviCuHluq",
        "outputId": "d43e842b-9ddc-4968-d476-9684c75d82f7"
      },
      "source": [
        "#Evalute the model on the test set\n",
        "model.evaluate(x_test, y_test)"
      ],
      "execution_count": 52,
      "outputs": [
        {
          "output_type": "stream",
          "name": "stdout",
          "text": [
            "1/1 [==============================] - 0s 133ms/step - loss: 18.7453 - mae: 18.7453\n"
          ]
        },
        {
          "output_type": "execute_result",
          "data": {
            "text/plain": [
              "[18.74532699584961, 18.74532699584961]"
            ]
          },
          "metadata": {},
          "execution_count": 52
        }
      ]
    },
    {
      "cell_type": "markdown",
      "metadata": {
        "id": "ubjt9zvdHzrX"
      },
      "source": [
        "In our case, since we used MAE for the `loss function` as well as MAE for the metrics, `model.evalute()` return them both.\n",
        "\n",
        "TensorFlow also has built in function for `MSE` and `MAE`\n",
        "\n",
        "For many evaluation function, the premise is the same:\n",
        "**compare predection to the ground truth labels."
      ]
    },
    {
      "cell_type": "code",
      "metadata": {
        "colab": {
          "base_uri": "https://localhost:8080/"
        },
        "id": "hZfi99EwHvQk",
        "outputId": "ccab620e-ac82-4f70-cc45-b69b4c11a96e"
      },
      "source": [
        "#Calculate the mean absloutse error\n",
        "mae = tf.metrics.mean_absolute_error(y_true=y_test,y_pred=y_pred)\n",
        "mae"
      ],
      "execution_count": 53,
      "outputs": [
        {
          "output_type": "execute_result",
          "data": {
            "text/plain": [
              "<tf.Tensor: shape=(10,), dtype=float32, numpy=\n",
              "array([34.42891 , 30.943668, 27.45843 , 23.97319 , 20.487946, 17.202168,\n",
              "       14.510478, 12.419336, 11.018796, 10.212349], dtype=float32)>"
            ]
          },
          "metadata": {},
          "execution_count": 53
        }
      ]
    },
    {
      "cell_type": "markdown",
      "metadata": {
        "id": "6sf2hjyHJUq-"
      },
      "source": [
        "**MAE Must be Singel output**"
      ]
    },
    {
      "cell_type": "markdown",
      "metadata": {
        "id": "8H_ftdRpJkeO"
      },
      "source": [
        "Instead, we get 10 values.\n",
        "\n",
        "This is because our `y_test` and `y_pred` tensor are diffrint shapes."
      ]
    },
    {
      "cell_type": "code",
      "metadata": {
        "colab": {
          "base_uri": "https://localhost:8080/"
        },
        "id": "m5mlKvRlJhQw",
        "outputId": "aee6ec06-ea49-415e-f8ec-bce70a71f847"
      },
      "source": [
        "#Check the test label tensor values\n",
        "y_test"
      ],
      "execution_count": 54,
      "outputs": [
        {
          "output_type": "execute_result",
          "data": {
            "text/plain": [
              "array([ 70,  74,  78,  82,  86,  90,  94,  98, 102, 106])"
            ]
          },
          "metadata": {},
          "execution_count": 54
        }
      ]
    },
    {
      "cell_type": "code",
      "metadata": {
        "colab": {
          "base_uri": "https://localhost:8080/"
        },
        "id": "mYxSedy-KA17",
        "outputId": "cfab2202-34dc-47c3-956b-bbf16b14b01a"
      },
      "source": [
        "#Check the predection tensor values (notice the extra squre brackets)\n",
        "y_pred"
      ],
      "execution_count": 55,
      "outputs": [
        {
          "output_type": "execute_result",
          "data": {
            "text/plain": [
              "array([[53.57109 ],\n",
              "       [57.05633 ],\n",
              "       [60.541573],\n",
              "       [64.02681 ],\n",
              "       [67.512054],\n",
              "       [70.99729 ],\n",
              "       [74.48254 ],\n",
              "       [77.96777 ],\n",
              "       [81.45301 ],\n",
              "       [84.938255]], dtype=float32)"
            ]
          },
          "metadata": {},
          "execution_count": 55
        }
      ]
    },
    {
      "cell_type": "code",
      "metadata": {
        "colab": {
          "base_uri": "https://localhost:8080/"
        },
        "id": "JGj0KAikKNXJ",
        "outputId": "49bbb3e9-efca-40a0-e255-297aee37b1ac"
      },
      "source": [
        "#check the tensor shape\n",
        "y_test.shape, y_pred.shape"
      ],
      "execution_count": 56,
      "outputs": [
        {
          "output_type": "execute_result",
          "data": {
            "text/plain": [
              "((10,), (10, 1))"
            ]
          },
          "metadata": {},
          "execution_count": 56
        }
      ]
    },
    {
      "cell_type": "markdown",
      "metadata": {
        "id": "1iouFwBAKlAF"
      },
      "source": [
        "\n",
        "## Dealing with input and output shape is one the most common issues.\n",
        "\n",
        "We can fix it using `squeeze()`, it will remove the 1 dimension from our y_pred tensor, making it the same shape as y_test."
      ]
    },
    {
      "cell_type": "code",
      "metadata": {
        "colab": {
          "base_uri": "https://localhost:8080/"
        },
        "id": "f5w559rVMOVX",
        "outputId": "5488ed4b-e383-4efe-9767-3784a058ffc6"
      },
      "source": [
        "#Shape before squeeze()\n",
        "y_pred.shape"
      ],
      "execution_count": 57,
      "outputs": [
        {
          "output_type": "execute_result",
          "data": {
            "text/plain": [
              "(10, 1)"
            ]
          },
          "metadata": {},
          "execution_count": 57
        }
      ]
    },
    {
      "cell_type": "code",
      "metadata": {
        "colab": {
          "base_uri": "https://localhost:8080/"
        },
        "id": "WLrR33Y6Mekb",
        "outputId": "1717d43f-7210-4bc7-d0f5-72a9d831b695"
      },
      "source": [
        "#Shape after squeez()\n",
        "y_pred.squeeze().shape"
      ],
      "execution_count": 59,
      "outputs": [
        {
          "output_type": "execute_result",
          "data": {
            "text/plain": [
              "(10,)"
            ]
          },
          "metadata": {},
          "execution_count": 59
        }
      ]
    },
    {
      "cell_type": "code",
      "metadata": {
        "colab": {
          "base_uri": "https://localhost:8080/"
        },
        "id": "_4-uE3ubMrXR",
        "outputId": "73b136bc-1316-4235-f5dd-8a60bf959a23"
      },
      "source": [
        "#What are the Result Now \n",
        "y_test, y_pred.squeeze()"
      ],
      "execution_count": 60,
      "outputs": [
        {
          "output_type": "execute_result",
          "data": {
            "text/plain": [
              "(array([ 70,  74,  78,  82,  86,  90,  94,  98, 102, 106]),\n",
              " array([53.57109 , 57.05633 , 60.541573, 64.02681 , 67.512054, 70.99729 ,\n",
              "        74.48254 , 77.96777 , 81.45301 , 84.938255], dtype=float32))"
            ]
          },
          "metadata": {},
          "execution_count": 60
        }
      ]
    },
    {
      "cell_type": "markdown",
      "metadata": {
        "id": "j8hiAmfjNRNC"
      },
      "source": [
        "Now our y_test and y_pred tensor in the name shape, let's use our evaluation metrics."
      ]
    },
    {
      "cell_type": "code",
      "metadata": {
        "colab": {
          "base_uri": "https://localhost:8080/"
        },
        "id": "Hb-a8rXwNPy8",
        "outputId": "ba3ab3dc-de17-42e1-c4a0-2e713c931fd1"
      },
      "source": [
        "#Calculate the MAE\n",
        "mae = tf.metrics.mean_absolute_error(y_true=y_test,y_pred=y_pred.squeeze()) #use squeeze() to make same shape\n",
        "mae"
      ],
      "execution_count": 62,
      "outputs": [
        {
          "output_type": "execute_result",
          "data": {
            "text/plain": [
              "<tf.Tensor: shape=(), dtype=float32, numpy=18.745327>"
            ]
          },
          "metadata": {},
          "execution_count": 62
        }
      ]
    },
    {
      "cell_type": "code",
      "metadata": {
        "colab": {
          "base_uri": "https://localhost:8080/"
        },
        "id": "ei40blqxN-_e",
        "outputId": "6d3d6cd8-75f5-432a-d42b-b606f24d0f92"
      },
      "source": [
        "#Clacultate the MSE\n",
        "mse = tf.metrics.mean_squared_error(y_true= y_test , y_pred= y_pred.squeeze())\n",
        "mse"
      ],
      "execution_count": 64,
      "outputs": [
        {
          "output_type": "execute_result",
          "data": {
            "text/plain": [
              "<tf.Tensor: shape=(), dtype=float32, numpy=353.57336>"
            ]
          },
          "metadata": {},
          "execution_count": 64
        }
      ]
    },
    {
      "cell_type": "markdown",
      "metadata": {
        "id": "HqNqs0zmOjQE"
      },
      "source": [
        "## Make function for our evaluation metrics."
      ]
    },
    {
      "cell_type": "code",
      "metadata": {
        "id": "Rj7wljh7OZdy"
      },
      "source": [
        "def mae(y_test,y_pred):\n",
        "  '''\n",
        "  calculate mean absolute error between y_test and y_preds.\n",
        "  '''\n",
        "  return tf.metrics.mean_absolute_error(y_test,y_pred)"
      ],
      "execution_count": 65,
      "outputs": []
    },
    {
      "cell_type": "code",
      "metadata": {
        "id": "pIG-yRDgPTb5"
      },
      "source": [
        "def mse(y_test,y_pred):\n",
        "  '''\n",
        "  Calculate mean squared error between y_test and y_pred.\n",
        "  '''\n",
        "  return tf.metrics.mean_squared_error(y_test,y_pred)"
      ],
      "execution_count": 66,
      "outputs": []
    },
    {
      "cell_type": "markdown",
      "metadata": {
        "id": "owUoVl4ZPuZ2"
      },
      "source": [
        "# Imporiove The Model\n",
        "\n",
        "### Running Expirimintal to imporove the Model"
      ]
    },
    {
      "cell_type": "markdown",
      "metadata": {
        "id": "K1NaiowvQBzm"
      },
      "source": [
        "There are Many Diffrent way ti improve the model , i will choose 3 of them.\n",
        "\n",
        "1.**Get more data** - get more exampel for your model to train on (more opportunities to learn pattren).\n",
        "\n",
        "2.**Make the model larger (use more complex model)** - more layers or more hiddin unites in neatch layer.\n",
        "\n",
        "3.**Train for longer** - giving the model more of chance to find the pattren in the data.\n"
      ]
    },
    {
      "cell_type": "markdown",
      "metadata": {
        "id": "2tdhmhPxRn2r"
      },
      "source": [
        "Since we cretaed our dataset , we could easily make more data but this isn't alwayes the case when we work in real-world dataset."
      ]
    },
    {
      "cell_type": "markdown",
      "metadata": {
        "id": "BuTG3ECMR82q"
      },
      "source": [
        "So I will using 2 and 3 ."
      ]
    },
    {
      "cell_type": "markdown",
      "metadata": {
        "id": "4M4A1gbDSHX_"
      },
      "source": [
        "I will build 3 model and comapire their result :\n",
        "\n",
        "1. `model_1` -same as original model, 1 layer, treind for 100 epochs.\n",
        "\n",
        "2. `model_2` - 2 Layers , traind for 100 epochs.\n",
        "\n",
        "3. `model_3` - 2 layer, traind for 500 epochs."
      ]
    },
    {
      "cell_type": "markdown",
      "metadata": {
        "id": "TqMvMKNGS_av"
      },
      "source": [
        "#Build The Models "
      ]
    },
    {
      "cell_type": "markdown",
      "metadata": {
        "id": "_qLAnma7Tjrh"
      },
      "source": [
        "## Build `Model_1`"
      ]
    },
    {
      "cell_type": "code",
      "metadata": {
        "colab": {
          "base_uri": "https://localhost:8080/"
        },
        "id": "2R5X6fRjTFkb",
        "outputId": "c868f9fd-8a5c-44c1-dbbc-3c98f22030ef"
      },
      "source": [
        "#Set random seed\n",
        "tf.random.set_seed(42)\n",
        "\n",
        "#The orginal Model \n",
        "model_1 = tf.keras.Sequential([\n",
        "    tf.keras.layers.Dense(1)\n",
        "])\n",
        "\n",
        "# Compile the model \n",
        "model_1.compile(loss= tf.keras.losses.mae,\n",
        "                optimizer= tf.keras.optimizers.SGD(),\n",
        "                metrics= ['mae'])\n",
        "\n",
        "# Fit the model\n",
        "model.fit(x_train, y_train , epochs=100)"
      ],
      "execution_count": 70,
      "outputs": [
        {
          "output_type": "stream",
          "name": "stdout",
          "text": [
            "Epoch 1/100\n",
            "2/2 [==============================] - 0s 7ms/step - loss: 7.4494 - mae: 7.4494\n",
            "Epoch 2/100\n",
            "2/2 [==============================] - 0s 3ms/step - loss: 9.2391 - mae: 9.2391\n",
            "Epoch 3/100\n",
            "2/2 [==============================] - 0s 4ms/step - loss: 9.6116 - mae: 9.6116\n",
            "Epoch 4/100\n",
            "2/2 [==============================] - 0s 7ms/step - loss: 8.7602 - mae: 8.7602\n",
            "Epoch 5/100\n",
            "2/2 [==============================] - 0s 4ms/step - loss: 9.7251 - mae: 9.7251\n",
            "Epoch 6/100\n",
            "2/2 [==============================] - 0s 5ms/step - loss: 8.9002 - mae: 8.9002\n",
            "Epoch 7/100\n",
            "2/2 [==============================] - 0s 5ms/step - loss: 8.0002 - mae: 8.0002\n",
            "Epoch 8/100\n",
            "2/2 [==============================] - 0s 4ms/step - loss: 8.1138 - mae: 8.1138\n",
            "Epoch 9/100\n",
            "2/2 [==============================] - 0s 4ms/step - loss: 19.0986 - mae: 19.0986\n",
            "Epoch 10/100\n",
            "2/2 [==============================] - 0s 7ms/step - loss: 9.3698 - mae: 9.3698\n",
            "Epoch 11/100\n",
            "2/2 [==============================] - 0s 6ms/step - loss: 7.5493 - mae: 7.5493\n",
            "Epoch 12/100\n",
            "2/2 [==============================] - 0s 5ms/step - loss: 9.8866 - mae: 9.8866\n",
            "Epoch 13/100\n",
            "2/2 [==============================] - 0s 8ms/step - loss: 8.9273 - mae: 8.9273\n",
            "Epoch 14/100\n",
            "2/2 [==============================] - 0s 5ms/step - loss: 10.9891 - mae: 10.9891\n",
            "Epoch 15/100\n",
            "2/2 [==============================] - 0s 4ms/step - loss: 12.6094 - mae: 12.6094\n",
            "Epoch 16/100\n",
            "2/2 [==============================] - 0s 4ms/step - loss: 6.4175 - mae: 6.4175\n",
            "Epoch 17/100\n",
            "2/2 [==============================] - 0s 4ms/step - loss: 7.6479 - mae: 7.6479\n",
            "Epoch 18/100\n",
            "2/2 [==============================] - 0s 5ms/step - loss: 10.2152 - mae: 10.2152\n",
            "Epoch 19/100\n",
            "2/2 [==============================] - 0s 5ms/step - loss: 18.3227 - mae: 18.3227\n",
            "Epoch 20/100\n",
            "2/2 [==============================] - 0s 7ms/step - loss: 15.0241 - mae: 15.0241\n",
            "Epoch 21/100\n",
            "2/2 [==============================] - 0s 6ms/step - loss: 10.5285 - mae: 10.5285\n",
            "Epoch 22/100\n",
            "2/2 [==============================] - 0s 6ms/step - loss: 7.0450 - mae: 7.0450\n",
            "Epoch 23/100\n",
            "2/2 [==============================] - 0s 4ms/step - loss: 8.7253 - mae: 8.7253\n",
            "Epoch 24/100\n",
            "2/2 [==============================] - 0s 7ms/step - loss: 7.5994 - mae: 7.5994\n",
            "Epoch 25/100\n",
            "2/2 [==============================] - 0s 6ms/step - loss: 10.1121 - mae: 10.1121\n",
            "Epoch 26/100\n",
            "2/2 [==============================] - 0s 7ms/step - loss: 16.3869 - mae: 16.3869\n",
            "Epoch 27/100\n",
            "2/2 [==============================] - 0s 9ms/step - loss: 12.5856 - mae: 12.5856\n",
            "Epoch 28/100\n",
            "2/2 [==============================] - 0s 8ms/step - loss: 13.7632 - mae: 13.7632\n",
            "Epoch 29/100\n",
            "2/2 [==============================] - 0s 6ms/step - loss: 9.0995 - mae: 9.0995\n",
            "Epoch 30/100\n",
            "2/2 [==============================] - 0s 7ms/step - loss: 15.4324 - mae: 15.4324\n",
            "Epoch 31/100\n",
            "2/2 [==============================] - 0s 6ms/step - loss: 23.7275 - mae: 23.7275\n",
            "Epoch 32/100\n",
            "2/2 [==============================] - 0s 10ms/step - loss: 6.6583 - mae: 6.6583\n",
            "Epoch 33/100\n",
            "2/2 [==============================] - 0s 5ms/step - loss: 9.3521 - mae: 9.3521\n",
            "Epoch 34/100\n",
            "2/2 [==============================] - 0s 4ms/step - loss: 8.9275 - mae: 8.9275\n",
            "Epoch 35/100\n",
            "2/2 [==============================] - 0s 4ms/step - loss: 7.0428 - mae: 7.0428\n",
            "Epoch 36/100\n",
            "2/2 [==============================] - 0s 4ms/step - loss: 8.9966 - mae: 8.9966\n",
            "Epoch 37/100\n",
            "2/2 [==============================] - 0s 4ms/step - loss: 8.7731 - mae: 8.7731\n",
            "Epoch 38/100\n",
            "2/2 [==============================] - 0s 10ms/step - loss: 9.5648 - mae: 9.5648\n",
            "Epoch 39/100\n",
            "2/2 [==============================] - 0s 4ms/step - loss: 15.0424 - mae: 15.0424\n",
            "Epoch 40/100\n",
            "2/2 [==============================] - 0s 5ms/step - loss: 12.7918 - mae: 12.7918\n",
            "Epoch 41/100\n",
            "2/2 [==============================] - 0s 7ms/step - loss: 8.5635 - mae: 8.5635\n",
            "Epoch 42/100\n",
            "2/2 [==============================] - 0s 4ms/step - loss: 10.4069 - mae: 10.4069\n",
            "Epoch 43/100\n",
            "2/2 [==============================] - 0s 5ms/step - loss: 10.9575 - mae: 10.9575\n",
            "Epoch 44/100\n",
            "2/2 [==============================] - 0s 4ms/step - loss: 15.4550 - mae: 15.4550\n",
            "Epoch 45/100\n",
            "2/2 [==============================] - 0s 4ms/step - loss: 11.1913 - mae: 11.1913\n",
            "Epoch 46/100\n",
            "2/2 [==============================] - 0s 7ms/step - loss: 6.3175 - mae: 6.3175\n",
            "Epoch 47/100\n",
            "2/2 [==============================] - 0s 4ms/step - loss: 8.4750 - mae: 8.4750\n",
            "Epoch 48/100\n",
            "2/2 [==============================] - 0s 4ms/step - loss: 8.0104 - mae: 8.0104\n",
            "Epoch 49/100\n",
            "2/2 [==============================] - 0s 4ms/step - loss: 6.8868 - mae: 6.8868\n",
            "Epoch 50/100\n",
            "2/2 [==============================] - 0s 4ms/step - loss: 8.6688 - mae: 8.6688\n",
            "Epoch 51/100\n",
            "2/2 [==============================] - 0s 8ms/step - loss: 8.6195 - mae: 8.6195\n",
            "Epoch 52/100\n",
            "2/2 [==============================] - 0s 6ms/step - loss: 10.3668 - mae: 10.3668\n",
            "Epoch 53/100\n",
            "2/2 [==============================] - 0s 7ms/step - loss: 11.7298 - mae: 11.7298\n",
            "Epoch 54/100\n",
            "2/2 [==============================] - 0s 4ms/step - loss: 17.4147 - mae: 17.4147\n",
            "Epoch 55/100\n",
            "2/2 [==============================] - 0s 4ms/step - loss: 15.1775 - mae: 15.1775\n",
            "Epoch 56/100\n",
            "2/2 [==============================] - 0s 3ms/step - loss: 10.3830 - mae: 10.3830\n",
            "Epoch 57/100\n",
            "2/2 [==============================] - 0s 4ms/step - loss: 8.7312 - mae: 8.7312\n",
            "Epoch 58/100\n",
            "2/2 [==============================] - 0s 6ms/step - loss: 8.0396 - mae: 8.0396\n",
            "Epoch 59/100\n",
            "2/2 [==============================] - 0s 5ms/step - loss: 9.2555 - mae: 9.2555\n",
            "Epoch 60/100\n",
            "2/2 [==============================] - 0s 4ms/step - loss: 7.4949 - mae: 7.4949\n",
            "Epoch 61/100\n",
            "2/2 [==============================] - 0s 4ms/step - loss: 8.3574 - mae: 8.3574\n",
            "Epoch 62/100\n",
            "2/2 [==============================] - 0s 4ms/step - loss: 6.3038 - mae: 6.3038\n",
            "Epoch 63/100\n",
            "2/2 [==============================] - 0s 4ms/step - loss: 7.2954 - mae: 7.2954\n",
            "Epoch 64/100\n",
            "2/2 [==============================] - 0s 4ms/step - loss: 12.0381 - mae: 12.0381\n",
            "Epoch 65/100\n",
            "2/2 [==============================] - 0s 4ms/step - loss: 9.1088 - mae: 9.1088\n",
            "Epoch 66/100\n",
            "2/2 [==============================] - 0s 4ms/step - loss: 15.5762 - mae: 15.5762\n",
            "Epoch 67/100\n",
            "2/2 [==============================] - 0s 4ms/step - loss: 9.4988 - mae: 9.4988\n",
            "Epoch 68/100\n",
            "2/2 [==============================] - 0s 6ms/step - loss: 7.3459 - mae: 7.3459\n",
            "Epoch 69/100\n",
            "2/2 [==============================] - 0s 5ms/step - loss: 13.3723 - mae: 13.3723\n",
            "Epoch 70/100\n",
            "2/2 [==============================] - 0s 4ms/step - loss: 6.1456 - mae: 6.1456\n",
            "Epoch 71/100\n",
            "2/2 [==============================] - 0s 4ms/step - loss: 12.7084 - mae: 12.7084\n",
            "Epoch 72/100\n",
            "2/2 [==============================] - 0s 4ms/step - loss: 8.6625 - mae: 8.6625\n",
            "Epoch 73/100\n",
            "2/2 [==============================] - 0s 5ms/step - loss: 10.7664 - mae: 10.7664\n",
            "Epoch 74/100\n",
            "2/2 [==============================] - 0s 5ms/step - loss: 11.6373 - mae: 11.6373\n",
            "Epoch 75/100\n",
            "2/2 [==============================] - 0s 5ms/step - loss: 6.3771 - mae: 6.3771\n",
            "Epoch 76/100\n",
            "2/2 [==============================] - 0s 4ms/step - loss: 10.1117 - mae: 10.1117\n",
            "Epoch 77/100\n",
            "2/2 [==============================] - 0s 5ms/step - loss: 10.0869 - mae: 10.0869\n",
            "Epoch 78/100\n",
            "2/2 [==============================] - 0s 5ms/step - loss: 11.7024 - mae: 11.7024\n",
            "Epoch 79/100\n",
            "2/2 [==============================] - 0s 4ms/step - loss: 14.6771 - mae: 14.6771\n",
            "Epoch 80/100\n",
            "2/2 [==============================] - 0s 4ms/step - loss: 11.0129 - mae: 11.0129\n",
            "Epoch 81/100\n",
            "2/2 [==============================] - 0s 15ms/step - loss: 10.1555 - mae: 10.1555\n",
            "Epoch 82/100\n",
            "2/2 [==============================] - 0s 3ms/step - loss: 7.1339 - mae: 7.1339\n",
            "Epoch 83/100\n",
            "2/2 [==============================] - 0s 4ms/step - loss: 8.0773 - mae: 8.0773\n",
            "Epoch 84/100\n",
            "2/2 [==============================] - 0s 5ms/step - loss: 6.7051 - mae: 6.7051\n",
            "Epoch 85/100\n",
            "2/2 [==============================] - 0s 4ms/step - loss: 16.1770 - mae: 16.1770\n",
            "Epoch 86/100\n",
            "2/2 [==============================] - 0s 5ms/step - loss: 11.5961 - mae: 11.5961\n",
            "Epoch 87/100\n",
            "2/2 [==============================] - 0s 6ms/step - loss: 11.4825 - mae: 11.4825\n",
            "Epoch 88/100\n",
            "2/2 [==============================] - 0s 6ms/step - loss: 9.5590 - mae: 9.5590\n",
            "Epoch 89/100\n",
            "2/2 [==============================] - 0s 6ms/step - loss: 6.0280 - mae: 6.0280\n",
            "Epoch 90/100\n",
            "2/2 [==============================] - 0s 7ms/step - loss: 12.9257 - mae: 12.9257\n",
            "Epoch 91/100\n",
            "2/2 [==============================] - 0s 4ms/step - loss: 6.8810 - mae: 6.8810\n",
            "Epoch 92/100\n",
            "2/2 [==============================] - 0s 5ms/step - loss: 7.1209 - mae: 7.1209\n",
            "Epoch 93/100\n",
            "2/2 [==============================] - 0s 6ms/step - loss: 8.5510 - mae: 8.5510\n",
            "Epoch 94/100\n",
            "2/2 [==============================] - 0s 4ms/step - loss: 7.8979 - mae: 7.8979\n",
            "Epoch 95/100\n",
            "2/2 [==============================] - 0s 6ms/step - loss: 11.3865 - mae: 11.3865\n",
            "Epoch 96/100\n",
            "2/2 [==============================] - 0s 4ms/step - loss: 8.4120 - mae: 8.4120\n",
            "Epoch 97/100\n",
            "2/2 [==============================] - 0s 7ms/step - loss: 12.1666 - mae: 12.1666\n",
            "Epoch 98/100\n",
            "2/2 [==============================] - 0s 3ms/step - loss: 7.4770 - mae: 7.4770\n",
            "Epoch 99/100\n",
            "2/2 [==============================] - 0s 5ms/step - loss: 8.2216 - mae: 8.2216\n",
            "Epoch 100/100\n",
            "2/2 [==============================] - 0s 5ms/step - loss: 9.6944 - mae: 9.6944\n"
          ]
        },
        {
          "output_type": "execute_result",
          "data": {
            "text/plain": [
              "<keras.callbacks.History at 0x7f01b9ed3950>"
            ]
          },
          "metadata": {},
          "execution_count": 70
        }
      ]
    },
    {
      "cell_type": "code",
      "metadata": {
        "colab": {
          "base_uri": "https://localhost:8080/",
          "height": 428
        },
        "id": "JI92DxZpUoEK",
        "outputId": "479a9e1b-cd4f-4c1e-af7b-54cb45ae6bcc"
      },
      "source": [
        "# Make and plot predections for model_1\n",
        "y_pred_1 = model_1.predict(x_test)\n",
        "plot_pred(predection= y_pred_1)"
      ],
      "execution_count": 72,
      "outputs": [
        {
          "output_type": "display_data",
          "data": {
            "image/png": "[encoded data removed]",
            "text/plain": [
              "<Figure size 720x504 with 1 Axes>"
            ]
          },
          "metadata": {
            "needs_background": "light"
          }
        }
      ]
    },
    {
      "cell_type": "code",
      "metadata": {
        "colab": {
          "base_uri": "https://localhost:8080/"
        },
        "id": "oUSWlpLtVKyw",
        "outputId": "9f5f9942-314f-4752-9a02-69a570e93675"
      },
      "source": [
        "# Calculate model_1 metrics\n",
        "mae_1 = mae(y_test, y_pred_1.squeeze()).numpy()\n",
        "mse_1 = mse(y_test, y_pred_1.squeeze()).numpy()\n",
        "mae_1, mse_1"
      ],
      "execution_count": 73,
      "outputs": [
        {
          "output_type": "execute_result",
          "data": {
            "text/plain": [
              "(43.535328, 1919.7249)"
            ]
          },
          "metadata": {},
          "execution_count": 73
        }
      ]
    },
    {
      "cell_type": "markdown",
      "metadata": {
        "id": "OqGr3tpEWEL4"
      },
      "source": [
        "## Build `model_2`"
      ]
    },
    {
      "cell_type": "code",
      "metadata": {
        "colab": {
          "base_uri": "https://localhost:8080/"
        },
        "id": "z6vAkMcoWVx5",
        "outputId": "1ab7102a-d050-482a-aa70-040ced6cdc17"
      },
      "source": [
        "# set the random seed\n",
        "tf.random.set_seed(42)\n",
        "\n",
        "# The model amd add extra layers\n",
        "model_2 = tf.keras.Sequential([\n",
        "    tf.keras.layers.Dense(1),\n",
        "    tf.keras.layers.Dense(1) #add second layer\n",
        "])\n",
        "\n",
        "# compile the model\n",
        "model_2.compile(loss=tf.keras.losses.mae,\n",
        "                optimizer= tf.keras.optimizers.SGD(),\n",
        "                metrics=['mae'])\n",
        "\n",
        "# Fit The Model\n",
        "model_2.fit(x_train, y_train, epochs=100 , verbose=0 )#Set the verbose 0 for less output"
      ],
      "execution_count": 76,
      "outputs": [
        {
          "output_type": "execute_result",
          "data": {
            "text/plain": [
              "<keras.callbacks.History at 0x7f01b9ea2b90>"
            ]
          },
          "metadata": {},
          "execution_count": 76
        }
      ]
    },
    {
      "cell_type": "code",
      "metadata": {
        "colab": {
          "base_uri": "https://localhost:8080/",
          "height": 428
        },
        "id": "vN40mtSDXqwe",
        "outputId": "6bdba890-ce60-4441-9a98-4b82270c008c"
      },
      "source": [
        "# Make and Plot predection\n",
        "y_pred_2 = model_2.predict(x_test)\n",
        "plot_pred(predection=y_pred_2)"
      ],
      "execution_count": 77,
      "outputs": [
        {
          "output_type": "display_data",
          "data": {
            "image/png": "[encoded data removed]",
            "text/plain": [
              "<Figure size 720x504 with 1 Axes>"
            ]
          },
          "metadata": {
            "needs_background": "light"
          }
        }
      ]
    },
    {
      "cell_type": "markdown",
      "metadata": {
        "id": "0ZKRgAgrYNRj"
      },
      "source": [
        "Thats look batter alrady :)"
      ]
    },
    {
      "cell_type": "code",
      "metadata": {
        "colab": {
          "base_uri": "https://localhost:8080/"
        },
        "id": "FDaeBqvNYZG7",
        "outputId": "2df043f4-1006-4535-cc49-dc2f0b5b3179"
      },
      "source": [
        "# Calculate model_2 metrics\n",
        "\n",
        "mae_2 = mae(y_test, y_pred_2.squeeze()).numpy()\n",
        "mse_2 = mse(y_test, y_pred_2.squeeze()).numpy()\n",
        "mae_2, mse_2"
      ],
      "execution_count": 79,
      "outputs": [
        {
          "output_type": "execute_result",
          "data": {
            "text/plain": [
              "(1.9098114, 5.459232)"
            ]
          },
          "metadata": {},
          "execution_count": 79
        }
      ]
    },
    {
      "cell_type": "markdown",
      "metadata": {
        "id": "nz9xorOvY3Rz"
      },
      "source": [
        "## Build `model_3`"
      ]
    },
    {
      "cell_type": "markdown",
      "metadata": {
        "id": "O9AwGyaLZO8H"
      },
      "source": [
        "For 3rd model , i will keep evrything same as `model_2` exept i will trian for longer (500 epochs instead of 100)\n",
        "\n",
        "This will give our model more chance to learn the pattren in the data."
      ]
    },
    {
      "cell_type": "code",
      "metadata": {
        "colab": {
          "base_uri": "https://localhost:8080/"
        },
        "id": "5Iz6-V2xZyPW",
        "outputId": "74da75b9-0f42-4ed1-f601-6b7bf87a5529"
      },
      "source": [
        "# Set random seed\n",
        "tf.random.set_seed(42)\n",
        "\n",
        "# Build the model\n",
        "model_3 = tf.keras.Sequential([\n",
        "    tf.keras.layers.Dense(1),\n",
        "    tf.keras.layers.Dense(1)\n",
        "])\n",
        "\n",
        "# Compile the model \n",
        "model_3.compile(loss= tf.keras.losses.mae,\n",
        "                optimizer= tf.keras.optimizers.SGD(),\n",
        "                metrics=['mae'])\n",
        "\n",
        "# Fit the model for more epochs\n",
        "model_3.fit(x_train,y_train, epochs=500 , verbose=0)"
      ],
      "execution_count": 81,
      "outputs": [
        {
          "output_type": "execute_result",
          "data": {
            "text/plain": [
              "<keras.callbacks.History at 0x7f01bb163690>"
            ]
          },
          "metadata": {},
          "execution_count": 81
        }
      ]
    },
    {
      "cell_type": "code",
      "metadata": {
        "colab": {
          "base_uri": "https://localhost:8080/",
          "height": 465
        },
        "id": "SUWKs2wIa-i2",
        "outputId": "3bf795c1-1521-4e7b-d5bf-bb1fcffd46c2"
      },
      "source": [
        "y_pred_3 = model_3.predict(x_test)\n",
        "plot_pred(predection=y_pred_3)"
      ],
      "execution_count": 82,
      "outputs": [
        {
          "output_type": "stream",
          "name": "stdout",
          "text": [
            "WARNING:tensorflow:5 out of the last 6 calls to <function Model.make_predict_function.<locals>.predict_function at 0x7f01bb0bc0e0> triggered tf.function retracing. Tracing is expensive and the excessive number of tracings could be due to (1) creating @tf.function repeatedly in a loop, (2) passing tensors with different shapes, (3) passing Python objects instead of tensors. For (1), please define your @tf.function outside of the loop. For (2), @tf.function has experimental_relax_shapes=True option that relaxes argument shapes that can avoid unnecessary retracing. For (3), please refer to https://www.tensorflow.org/guide/function#controlling_retracing and https://www.tensorflow.org/api_docs/python/tf/function for  more details.\n"
          ]
        },
        {
          "output_type": "display_data",
          "data": {
            "image/png": "[encoded data removed]",
            "text/plain": [
              "<Figure size 720x504 with 1 Axes>"
            ]
          },
          "metadata": {
            "needs_background": "light"
          }
        }
      ]
    },
    {
      "cell_type": "markdown",
      "metadata": {
        "id": "LNxpCDdhbO2S"
      },
      "source": [
        "I traind for longer but our model preformed worest .. !!"
      ]
    },
    {
      "cell_type": "markdown",
      "metadata": {
        "id": "xg_XUR2PbtO4"
      },
      "source": [
        "As it turn out , my model maight have trained too long and has thus resultd in worde result "
      ]
    },
    {
      "cell_type": "code",
      "metadata": {
        "colab": {
          "base_uri": "https://localhost:8080/"
        },
        "id": "9ZL1_mBCcDYO",
        "outputId": "42ff89d7-8c95-4bd3-b8a0-d29ea43ebaee"
      },
      "source": [
        "# Calculate model_3 metrics \n",
        "mae_3 = mae(y_test , y_pred_3.squeeze()).numpy()\n",
        "mse_3 = mse(y_test , y_pred_3.squeeze()).numpy()\n",
        "mae_3, mse_3"
      ],
      "execution_count": 84,
      "outputs": [
        {
          "output_type": "execute_result",
          "data": {
            "text/plain": [
              "(68.68786, 4804.4717)"
            ]
          },
          "metadata": {},
          "execution_count": 84
        }
      ]
    },
    {
      "cell_type": "markdown",
      "metadata": {
        "id": "V3CFhVwvcvcr"
      },
      "source": [
        "# Comparing Result"
      ]
    },
    {
      "cell_type": "markdown",
      "metadata": {
        "id": "fYiwgGZzc4Wj"
      },
      "source": [
        "Now we have result for 3 model similer but slightly deffrint result . i will comapre them"
      ]
    },
    {
      "cell_type": "code",
      "metadata": {
        "id": "9EaKbCzLdWNB"
      },
      "source": [
        "model_results = [['model_1', mae_1, mse_1],\n",
        "                 ['model_2', mae_2, mse_2],\n",
        "                 [',odel_3', mae_3, mse_3]]"
      ],
      "execution_count": 85,
      "outputs": []
    },
    {
      "cell_type": "code",
      "metadata": {
        "colab": {
          "base_uri": "https://localhost:8080/",
          "height": 142
        },
        "id": "BSx8FgfZdIXU",
        "outputId": "c2486f22-15ad-4dac-fadc-b622a98da519"
      },
      "source": [
        "import pandas as pd\n",
        "all_result = pd.DataFrame(model_results,columns=['model','mae','mse'])\n",
        "all_result"
      ],
      "execution_count": 86,
      "outputs": [
        {
          "output_type": "execute_result",
          "data": {
            "text/html": [
              "<div>\n",
              "<style scoped>\n",
              "    .dataframe tbody tr th:only-of-type {\n",
              "        vertical-align: middle;\n",
              "    }\n",
              "\n",
              "    .dataframe tbody tr th {\n",
              "        vertical-align: top;\n",
              "    }\n",
              "\n",
              "    .dataframe thead th {\n",
              "        text-align: right;\n",
              "    }\n",
              "</style>\n",
              "<table border=\"1\" class=\"dataframe\">\n",
              "  <thead>\n",
              "    <tr style=\"text-align: right;\">\n",
              "      <th></th>\n",
              "      <th>model</th>\n",
              "      <th>mae</th>\n",
              "      <th>mse</th>\n",
              "    </tr>\n",
              "  </thead>\n",
              "  <tbody>\n",
              "    <tr>\n",
              "      <th>0</th>\n",
              "      <td>model_1</td>\n",
              "      <td>43.535328</td>\n",
              "      <td>1919.724854</td>\n",
              "    </tr>\n",
              "    <tr>\n",
              "      <th>1</th>\n",
              "      <td>model_2</td>\n",
              "      <td>1.909811</td>\n",
              "      <td>5.459232</td>\n",
              "    </tr>\n",
              "    <tr>\n",
              "      <th>2</th>\n",
              "      <td>,odel_3</td>\n",
              "      <td>68.687859</td>\n",
              "      <td>4804.471680</td>\n",
              "    </tr>\n",
              "  </tbody>\n",
              "</table>\n",
              "</div>"
            ],
            "text/plain": [
              "     model        mae          mse\n",
              "0  model_1  43.535328  1919.724854\n",
              "1  model_2   1.909811     5.459232\n",
              "2  ,odel_3  68.687859  4804.471680"
            ]
          },
          "metadata": {},
          "execution_count": 86
        }
      ]
    },
    {
      "cell_type": "markdown",
      "metadata": {
        "id": "Ytf1zcANd-LG"
      },
      "source": [
        "# Saveing The Model"
      ]
    },
    {
      "cell_type": "code",
      "metadata": {
        "id": "b2OmxUDpeHIQ"
      },
      "source": [
        "# Save the best model (model_2) by h5 format\n",
        "model_2.save('model_2.h5')"
      ],
      "execution_count": 87,
      "outputs": []
    },
    {
      "cell_type": "markdown",
      "metadata": {
        "id": "KEhQ_3dle3LO"
      },
      "source": [
        "# Loading the model"
      ]
    },
    {
      "cell_type": "markdown",
      "metadata": {
        "id": "iMnwXY0Ze6Ys"
      },
      "source": [
        "load the model and try it again"
      ]
    },
    {
      "cell_type": "code",
      "metadata": {
        "colab": {
          "base_uri": "https://localhost:8080/"
        },
        "id": "rhfeBu0yfB__",
        "outputId": "e7d3f226-5cb0-4c3c-bd17-a4bb09cd93df"
      },
      "source": [
        "loaded_model_2 = tf.keras.models.load_model('model_2.h5')\n",
        "loaded_model_2.summary()"
      ],
      "execution_count": 89,
      "outputs": [
        {
          "output_type": "stream",
          "name": "stdout",
          "text": [
            "Model: \"sequential_9\"\n",
            "_________________________________________________________________\n",
            "Layer (type)                 Output Shape              Param #   \n",
            "=================================================================\n",
            "dense_10 (Dense)             (None, 1)                 2         \n",
            "_________________________________________________________________\n",
            "dense_11 (Dense)             (None, 1)                 2         \n",
            "=================================================================\n",
            "Total params: 4\n",
            "Trainable params: 4\n",
            "Non-trainable params: 0\n",
            "_________________________________________________________________\n"
          ]
        }
      ]
    }
  ]
}